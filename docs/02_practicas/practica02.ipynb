{
 "cells": [
  {
   "cell_type": "markdown",
   "metadata": {
    "id": "PgHJzvphFMq-"
   },
   "source": [
    "# Práctica 2 - Seminario de Lenguaje Python 2022"
   ]
  },
  {
   "cell_type": "markdown",
   "metadata": {
    "id": "WDwTAtUvicUt"
   },
   "source": [
    "# Ejercicios"
   ]
  },
  {
   "cell_type": "markdown",
   "metadata": {},
   "source": [
    "## Parte 1"
   ]
  },
  {
   "cell_type": "markdown",
   "metadata": {
    "id": "0Ed-nHY5LdIk"
   },
   "source": [
    "1. Tomando el texto del `README.md` de [numpy](https://github.com/numpy/numpy), imprima todas las líneas que contienen 'http' o 'https'.\n",
    "\n"
   ]
  },
  {
   "cell_type": "markdown",
   "metadata": {},
   "source": [
    "Recordar:\n",
    "* split(): ¿qué caracter utilizarían para separar?\n",
    "* string **in** frase: para saber si un substring está incluido dentro de una frase\n",
    "* ¿podemos preguntar si un string se encuentra en una frase antes de recorrer la lista de palabras?"
   ]
  },
  {
   "cell_type": "markdown",
   "metadata": {
    "id": "n_EIQ-8VL8hG"
   },
   "source": [
    "2. Indique la palabra que aparece mayor cantidad de veces en el texto del `README.md` de numpy. Recordemos algunas funciones de string:"
   ]
  },
  {
   "cell_type": "code",
   "execution_count": 12,
   "metadata": {},
   "outputs": [
    {
     "name": "stdout",
     "output_type": "stream",
     "text": [
      "['the', 'constants', 'defined', 'in', 'this', 'module', 'are:the', 'constants', 'defined', 'in', 'this', 'module', 'are:', 'string.ascii_letters', 'the', 'concatenation', 'of', 'the', 'ascii_lowercase', 'and', 'ascii_uppercase', 'constants', 'described', 'below.', 'this', 'value', 'is', 'not', 'locale-dependent.', 'string.ascii_lowercase', 'the', 'lowercase', 'letters', \"'abcdefghijklmnopqrstuvwxyz'.\", 'this', 'value', 'is', 'not', 'locale-dependent', 'and', 'will', 'not', 'change.', 'string.ascii_uppercase', 'the', 'uppercase', 'letters', \"'abcdefghijklmnopqrstuvwxyz'.\", 'this', 'value', 'is', 'not', 'locale-dependent', 'and', 'will', 'not', 'change.']\n",
      "{'string.ascii_uppercase', 'value', 'concatenation', 'ascii_lowercase', 'is', 'are:', 'ascii_uppercase', 'constants', 'locale-dependent.', 'and', 'string.ascii_letters', 'uppercase', 'this', 'of', 'string.ascii_lowercase', 'below.', 'locale-dependent', 'change.', 'defined', 'lowercase', 'the', 'module', 'not', 'are:the', \"'abcdefghijklmnopqrstuvwxyz'.\", 'will', 'in', 'described', 'letters'}\n"
     ]
    }
   ],
   "source": [
    "\n",
    "texto = \"\"\"The constants defined in this module are:The constants defined in this module are:\n",
    "\n",
    "string.ascii_letters\n",
    "The concatenation of the ascii_lowercase and ascii_uppercase constants described below. This value is not locale-dependent.\n",
    "\n",
    "string.ascii_lowercase\n",
    "The lowercase letters 'abcdefghijklmnopqrstuvwxyz'. This value is not locale-dependent and will not change.\n",
    "\n",
    "string.ascii_uppercase\n",
    "The uppercase letters 'ABCDEFGHIJKLMNOPQRSTUVWXYZ'. This value is not locale-dependent and will not change.\n",
    "\"\"\"\n",
    "# lista con todas las palabras\n",
    "print(texto.lower().split())\n",
    "# lista con palabras sin repetir \n",
    "print(set(texto.lower().split()))"
   ]
  },
  {
   "cell_type": "markdown",
   "metadata": {},
   "source": [
    "Investigue el módulo [Counter](https://docs.python.org/3/library/collections.html#collections.Counter) para simplificar la resolución."
   ]
  },
  {
   "cell_type": "markdown",
   "metadata": {},
   "source": [
    "### Identificando mayúsculas, minúsculas y caracteres no letras"
   ]
  },
  {
   "cell_type": "code",
   "execution_count": null,
   "metadata": {},
   "outputs": [],
   "source": [
    "caracter = \"T\"\n",
    "print(texto.split()[0].startswith(caracter))\n",
    "        "
   ]
  },
  {
   "cell_type": "markdown",
   "metadata": {},
   "source": [
    "¿Pero qué pasa si queremos saber indistintamente si la palabra comienza con dicha letra en minúscula o mayúscula?"
   ]
  },
  {
   "cell_type": "code",
   "execution_count": null,
   "metadata": {},
   "outputs": [],
   "source": [
    "caracter = \"t\"\n",
    "print(texto.lower().split()[0].startswith(caracter))\n",
    "        "
   ]
  },
  {
   "cell_type": "markdown",
   "metadata": {},
   "source": [
    "¿Y si el caracter ingresado no es una letra?"
   ]
  },
  {
   "cell_type": "code",
   "execution_count": null,
   "metadata": {},
   "outputs": [],
   "source": [
    "import string\n",
    "caracter = \"?\"\n",
    "print(f\"El caracter es una letra {caracter in string.ascii_letters}\")"
   ]
  },
  {
   "cell_type": "markdown",
   "metadata": {
    "id": "EtO2KrCcMFeP"
   },
   "source": [
    "3. Dado un texto solicite por teclado una letra e imprima las palabras que comienzan con dicha letra. En caso que no se haya ingresado una letra, indique el error. *Ver: módulo string*"
   ]
  },
  {
   "cell_type": "markdown",
   "metadata": {},
   "source": [
    "4. Para la aceptación de un artículo en un congreso se definen las siguientes especificaciones que deben cumplir y recomendaciones de escritura:\n",
    "* **título**: 10 palabras como máximo\n",
    "* cada oración del **resumen**:\n",
    "    * hasta 12 palabras: fácil de leer\n",
    "    * entre 13-17 palabras:  aceptable para leer\n",
    "    * entre 18-25 palabras: difícil de leer\n",
    "    * mas de 25 palabras: muy difícil\n",
    "\n",
    "Dado un artículo en formato string, defina si cumple las especificaciones del título y cuántas oraciones tiene de cada categoría. El formato estándar en que recibe el string tiene la siguiente forma:\n",
    "```Python\n",
    "\n",
    "evaluar = \"\"\" título: Experiences in Developing a Distributed Agent-based Modeling Toolkit with Python\n",
    "resumen: Distributed agent-based modeling (ABM) on high-performance computing resources provides the promise of capturing unprecedented details of large-scale complex systems. However, the specialized knowledge required for developing such ABMs creates barriers to wider adoption and utilization. Here we present our experiences in developing an initial implementation of Repast4Py, a Python-based distributed ABM toolkit. We build on our experiences in developing ABM toolkits, including Repast for High Performance Computing (Repast HPC), to identify the key elements of a useful distributed ABM toolkit. We leverage the Numba, NumPy, and PyTorch packages and the Python C-API to create a scalable modeling system that can exploit the largest HPC resources and emerging computing architectures.\n",
    "\"\"\"\n",
    "```\n",
    "\n",
    "En este ejemplo debería informar:\n",
    "\n",
    "* titulo está ok\n",
    "* Cantidad de oraciones fáciles de leer: 1, aceptables para leer: 2, dificil de leer: 1, muy dificil de leer: 2\n",
    "\n",
    "**Notas**: \n",
    "* investigue [Pattern Matching](https://peps.python.org/pep-0636/) para una solución simplificada.\n",
    "* ¿cuántas variables utilizó para guardar la cantidad de cada categoría, se podría usar alguna estructura?"
   ]
  },
  {
   "cell_type": "markdown",
   "metadata": {
    "id": "VwytQaHjFMrk"
   },
   "source": [
    " 5. Dada una frase y un string ingresados por teclado (en ese orden), e informe la cantidad de veces que se encuentra el string en la frase. No distingir entre mayúsculas y minúsculas.\n",
    "\n",
    "**Ejemplo 1**\n",
    "\n",
    "- **Para la frase**: \"Tres tristes tigres, tragaban trigo en un trigal, en tres tristes trastos, tragaban trigo tres tristes tigres.\"\n",
    "- **Palabra**: \"tres\"\n",
    "- **Resultado**: 3\n",
    "\n",
    "**Ejemplo 2**\n",
    "\n",
    "- **Para la frase**: \"Tres tristes tigres, tragaban trigo en un trigal, en tres tristes trastos, tragaban trigo tres tristes tigres.\"\n",
    "- **Palabra**: \"tigres\"\n",
    "- **Resultado**: 2\n",
    "\n",
    "**Ejemplo 3**\n",
    "\n",
    "- **Para la frase**: \"Tres tristes tigres, tragaban trigo en un trigal, en tres tristes trastos, tragaban trigo tres tristes tigres.\"\n",
    "- **Palabra**: \"TRISTES\"\n",
    "- **Resultado**: 3"
   ]
  },
  {
   "cell_type": "markdown",
   "metadata": {
    "id": "WDwTAtUvicUt"
   },
   "source": [
    "## Parte 2"
   ]
  },
  {
   "cell_type": "markdown",
   "metadata": {
    "id": "cjJxw6alKpDL"
   },
   "source": [
    "5. Retomamos el código visto en la teoría, que informaba si los caracteres \"@\" o \"!\" formaban parte de una palabra ingresada "
   ]
  },
  {
   "cell_type": "code",
   "execution_count": null,
   "metadata": {
    "colab": {
     "base_uri": "https://localhost:8080/"
    },
    "id": "vb06b79_iB8n",
    "outputId": "bfbbc040-070d-483e-90d3-91fc4c91dd09"
   },
   "outputs": [],
   "source": [
    "cadena = input(\"Ingresa la clave (debe tener menos de 10 caracteres y no contener los símbolos:@ y !):\")\n",
    "if len(cadena) > 10:\n",
    "    print(\"Ingresaste más de 10 carcateres\")\n",
    "cant = 0\n",
    "for car in cadena:\n",
    "    if car == \"@\" or car == \"!\":\n",
    "        cant = cant + 1\n",
    "if cant >= 1:\n",
    "    print(\"Ingresaste alguno de estos símbolos: @ o !\" )\n",
    "else:\n",
    "    print(\"Clave válida\")"
   ]
  },
  {
   "cell_type": "markdown",
   "metadata": {
    "id": "AE2UTOU_Mvdv"
   },
   "source": [
    "¿Cómo podemos simplificarlo?"
   ]
  },
  {
   "cell_type": "markdown",
   "metadata": {
    "id": "IGEwSgJiLEd8"
   },
   "source": [
    "6. Dada una frase donde las palabras pueden estar repetidas e indistintamente en mayúsculas y minúsculas, imprimir una lista con todas las palabras sin repetir y en letra minúscula.\n",
    "```python\n",
    "frase = \"\"\"\n",
    "  Si trabajás mucho CON computadoras, eventualmente encontrarás que te gustaría\n",
    "  automatizar alguna tarea. Por ejemplo, podrías desear realizar una búsqueda y\n",
    "  reemplazo en un gran número DE archivos de texto, o renombrar y reorganizar\n",
    "  un montón de archivos con fotos de una manera compleja. Tal vez quieras\n",
    "  escribir alguna pequeña base de datos personalizada, o una aplicación\n",
    "  especializada con interfaz gráfica, o UN juego simple.\n",
    "  \"\"\"\n",
    "```\n"
   ]
  },
  {
   "cell_type": "markdown",
   "metadata": {
    "id": "j0wd_13T77ob"
   },
   "source": [
    "7. Escriba un programa que solicite que se ingrese una palabra o frase y permita identificar si la misma es un [Heterograma](https://es.qaz.wiki/wiki/Isogram) (tenga en cuenta que el contenido del enlace es una traducción del inglés por lo cual las palabras que nombra no son heterogramas en español). Un Heterograma es una palabra o frase que no tiene ninguna letra repetida entre sus caracteres.\n",
    "\n",
    "**Tener en cuenta**\n",
    "- Lo que no se puede repetir en la frase son sólo aquellos caracteres que sean letras.\n",
    "- No se distingue entre mayúsculas y minúsculas, es decir si en la frase o palabra tenemos la letra \"T\" y la letra \"t\" la misma NO será un Hererograma.\n",
    "- Para simplificar el ejercicio vamos a tomar como que las letras con tilde y sin tilde son distintas. Ya que Python las diferencia:\n",
    "```python\n",
    ">>> 'u' == 'ú'\n",
    "False\n",
    "```\n",
    "\n",
    "**Ejemplos**\n",
    "\n",
    "|Entrada|¿Heterograma?|\n",
    "|-----|-----|\n",
    "|cruzamiento|Sí|\n",
    "|centrifugados|Sí|\n",
    "|portón|Sí|\n",
    "|casa|No|\n",
    "|día de sol|No|\n",
    "|con diez uñas|Sí|\n",
    "|no-se-duplica|Sí|"
   ]
  },
  {
   "cell_type": "markdown",
   "metadata": {
    "id": "YBU4hoEWzFw_"
   },
   "source": [
    "8. Escriba un programa que solicite por teclado una palabra y calcule el valor de la misma dada la siguiente tabla de valores del juego Scrabble:\n",
    "\n",
    "\n",
    "|Letra                       |valor|\n",
    "|-----                       |-----|\n",
    "|A, E, I, O, U, L, N, R, S, T|1|\n",
    "|D, G                        |2|\n",
    "|B, C, M, P                  |3|\n",
    "|F, H, V, W, Y               |4|\n",
    "|K                           |5|\n",
    "|J, X                        |8|\n",
    "|Q, Z                        |10|\n",
    "\n",
    "<center>\n",
    "  <i>*Tenga en cuenta qué estructura elige para guardar estos valores en Python</i>\n",
    "</center>\n",
    "\n",
    "**Ejemplo 1**\n",
    "\n",
    "- **Palabra**: \"solo\"\n",
    "- **valor**: 4\n",
    "\n",
    "**Ejemplo 2**\n",
    "\n",
    "- **Palabra**: \"tomate\"\n",
    "- **valor**: 8"
   ]
  },
  {
   "cell_type": "markdown",
   "metadata": {
    "id": "NwjmBFdldsvX"
   },
   "source": [
    "9. La idea es tratar de programar una de las partes principales del juego \"Buscaminas\". La idea es que dado una estructura que dice que celdas tienen minas y que celdas no las tienen, como la siguiente:\n",
    "\n",
    "```python\n",
    "[\n",
    "  '-*-*-',\n",
    "  '--*--',\n",
    "  '----*',\n",
    "  '*----',\n",
    "]\n",
    "```\n",
    "\n",
    "Generar otra que indique en las celdas vacías la cantidad de bombas que la rodean, para el ejemplo anterior, sería:\n",
    "\n",
    "```python\n",
    "[\n",
    "  '1*3*1',\n",
    "  '12*32',\n",
    "  '1212*',\n",
    "  '*1011',\n",
    "]\n",
    "```\n",
    "\n",
    "**Nota**: Defina al menos una función en el código (si hay mas mejor) y documente las mismas con **docstring** que es lo que hacen."
   ]
  },
  {
   "cell_type": "markdown",
   "metadata": {
    "id": "2LefGwJPFMro"
   },
   "source": [
    "10. Trabajando con los contenidos de los archivos que pueden acceder en el curso:\n",
    "* [nombres](https://catedras.linti.unlp.edu.ar/mod/resource/view.php?id=34485)\n",
    "* [eval1](https://catedras.linti.unlp.edu.ar/mod/resource/view.php?id=34486)\n",
    "* [eval2](https://catedras.linti.unlp.edu.ar/mod/resource/view.php?id=34487)\n",
    "\n",
    "Manipule estos archivos para realizar lo siguiente:\n",
    "\n",
    "*   Generar una estructura con los nombres de los estudiantes y la suma de ambas notas. \n",
    "*   Calcular el promedio de las notas totales e informar que alumnos obtuvieron menos que el promedio.\n",
    "\n"
   ]
  },
  {
   "cell_type": "markdown",
   "metadata": {},
   "source": [
    "11. Con la información de los archivos de texto que se encuentran disponibles en el curso: \n",
    "* [nombres_1](https://catedras.linti.unlp.edu.ar/mod/resource/view.php?id=34485)\n",
    "* [nombres_2](https://catedras.linti.unlp.edu.ar/mod/resource/view.php?id=34488)\n",
    "\n",
    "\n",
    "*   Indique los nombres que se encuentran en ambos. **Nota**: pruebe utilizando list comprehension.\n",
    "*   Genere tres variables con la lista de notas y nombres que se incluyen en los archivos: *nombres_1*, *eval1.txt* y *eval2.txt* e imprima con formato los nombres de los estudiantes con las correspondientes nota y la suma de ambas como se ve en la [imagen](https://catedras.linti.unlp.edu.ar/mod/resource/view.php?id=34489)\n",
    "\n",
    "<center>\n",
    "    <img src=\"https://imgur.com/gallery/FTdteVb\" title=\"source: imgur.com\" />\n",
    "</center>"
   ]
  },
  {
   "cell_type": "markdown",
   "metadata": {},
   "source": [
    "# Segunda entrega\n",
    "\n",
    "- **Puntos:** 20.\n",
    "- **Fecha límite de entrega:** Miércoles 13 de Abril 23:59hs.\n",
    "- **Modalidad de entrega:**\n",
    "    1. Elige uno entre los ejercicios 10 y 11 que resolviste en esta práctica.\n",
    "    2. Publica el código de la resolución en un cuaderno de Jupyter Notebook en tu repositorio creado en Github [Github](https://github.com/). Explicar en celdas con formato Markdown el significado de los passos principales realizados para la resolución.\n",
    "    3. Agregar el link del repositorio a la [tarea](https://catedras.linti.unlp.edu.ar/mod/assign/view.php?id=34349) en el curso."
   ]
  },
  {
   "cell_type": "code",
   "execution_count": null,
   "metadata": {},
   "outputs": [],
   "source": []
  }
 ],
 "metadata": {
  "colab": {
   "collapsed_sections": [],
   "name": "Practica 2.ipynb",
   "provenance": [],
   "toc_visible": true
  },
  "kernelspec": {
   "display_name": "Python 3 (ipykernel)",
   "language": "python",
   "name": "python3"
  },
  "language_info": {
   "codemirror_mode": {
    "name": "ipython",
    "version": 3
   },
   "file_extension": ".py",
   "mimetype": "text/x-python",
   "name": "python",
   "nbconvert_exporter": "python",
   "pygments_lexer": "ipython3",
   "version": "3.10.4"
  }
 },
 "nbformat": 4,
 "nbformat_minor": 4
}
