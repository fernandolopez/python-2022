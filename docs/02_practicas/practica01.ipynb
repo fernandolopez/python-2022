{
 "cells": [
  {
   "cell_type": "markdown",
   "id": "massive-nancy",
   "metadata": {},
   "source": [
    "# Python 2022 -  Práctica 1\n",
    "\n"
   ]
  },
  {
   "cell_type": "markdown",
   "id": "catholic-hawaii",
   "metadata": {},
   "source": [
    "## Objetivos\n",
    "\n",
    "* Preparar el entorno de trabajo que utilizarán a lo largo de la materia instalando las herramientas básicas.\n",
    "* Aprender a escribir nuestro primer programa Python y ejecutarlo.\n",
    "* Crear nuestro primer repositorio local y subir el código a un repositorio remoto.\n"
   ]
  },
  {
   "cell_type": "markdown",
   "id": "fuzzy-bible",
   "metadata": {},
   "source": [
    "## Python\n",
    "\n",
    "Para el acceso al material tendremos un [sitio web alternativo](https://python-unlp.github.io/2022/) para que puedan consultar. \n",
    "\n",
    "1- Realizar la instalación de Python 3.X. `recomendado 3.10`\n",
    "\n",
    "Para esta actividad existen 3 alternativas:\n",
    "* Instalar python en forma local, para windows seguir esta [guía](https://python-unlp.github.io/2022/guias/06_instalar_python/).\n",
    "* Utilizar una herramienta para realizar la instalación en tu sistema operativo: [Conda](https://docs.conda.io/en/latest/) o [Pyenv](https://pypi.org/project/pyenv/). Para conocer un poco más qué son los entornos virtuales puede consultar esta [guía](https://python-unlp.github.io/2022/guias/07_entornos_virtuales/)\n",
    "* Utilizar directamente la Máquina Virtual provista por la cátedra. Para esto es necesario que se instale en el sistema operativo una herramienta de virtualización como [VirtualBox](https://www.virtualbox.org/wiki/Downloads).\n",
    "\n",
    "\n",
    "2- Escriba en un archivo llamado `adivino.py` el siguiente programa en Python (similar al que vieron en la teoría [Clase 1 de la teoría](https://catedras.linti.unlp.edu.ar/pluginfile.php/103493/mod_resource/content/0/Clase_1_Introducci%C3%B3n.pdf))."
   ]
  },
  {
   "cell_type": "code",
   "execution_count": null,
   "id": "68ac4b18",
   "metadata": {},
   "outputs": [
    {
     "name": "stdout",
     "output_type": "stream",
     "text": [
      "Tenés 3 intentos para adivinar un entre 0 y 99\n"
     ]
    }
   ],
   "source": [
    "## Adivina adivinador....\n",
    "import random\n",
    "numero_aleatorio = random.randrange(5)\n",
    "gane = False\n",
    "print(\"Tenés 3 intentos para adivinar un entre 0 y 99\")\n",
    "intento = 1\n",
    "while intento < 4 and not gane:\n",
    "    numeroIngresado = int(input('Ingresa tu número: '))\n",
    "    if numeroIngresado == numero_aleatorio:\n",
    "        print('Ganaste! y necesitaste {} intentos!!!'.format(intento))\n",
    "        gane = True\n",
    "    else:\n",
    "        print('Mmmm ... No.. ese número no es... Seguí intentando.')\n",
    "        intento += 1\n",
    "if not gane:\n",
    "    print('\\n Perdiste :(\\n El número era: {}'.format(numero_aleatorio))"
   ]
  },
  {
   "cell_type": "markdown",
   "id": "10dc4044",
   "metadata": {},
   "source": [
    "Luego, modifíquelo para que:\n",
    "* genere un número aleatorio entre 0 y 100.\n",
    "* los nombres de las variables respeten la guía de estilo del lenguaje.\n",
    "* se de 5 posibilidades para adivinar el número."
   ]
  },
  {
   "cell_type": "markdown",
   "id": "radio-director",
   "metadata": {},
   "source": [
    "## Git\n",
    "\n",
    "### Introducción\n",
    "\n",
    "Como ya vimos Git es una herramienta muy buena que nos permite manejar versiones de nuestro código de manera distribuida con nuestro equipo de trabajo. \n",
    "\n",
    "Para poder realizar esto es necesario contar con un Servidor de Git aparte de tener la herramienta instalada en su [máquina](https://python-unlp.github.io/2022/guias/04_instalar_git/).\n",
    "\n",
    "Recuerde que se encuentra publicada la [guía básica de Git](https://python-unlp.github.io/2022/guias/05_git_basico/) donde se realizan varias de las tareas que solicitamos para relaizar esta entrega.\n",
    "\n",
    "En esta oportunidad vamos a analizar un poco [GitHub](https://github.com/) que es el Servidor de Git más popular actualmente."
   ]
  },
  {
   "cell_type": "markdown",
   "id": "confirmed-evans",
   "metadata": {},
   "source": [
    "# Primer entrega\n",
    "\n",
    "- **Puntos:** 10.\n",
    "- **Fecha límite de entrega:** viernes, 25 de marzo de 2022, 23:59\n",
    "- **Modalidad de entrega:**\n",
    "    1. Crea tu propio repositorio en [Github](https://github.com/) siguiendo esta [guía](https://python-unlp.github.io/2022/guias/04_instalar_git/)\n",
    "    2. Agrega el archivo `adivino.py` con las modificaciones solicitadas.\n",
    "    3. Agrega el `README.md` con tu nombre y número de alumnx.\n",
    "    4. Sube todos los cambios a tu repositorio en Github.\n",
    "    5. Agregar el link del repositorio a la [tarea](https://catedras.linti.unlp.edu.ar/mod/assign/view.php?id=34349) en el curso."
   ]
  }
 ],
 "metadata": {
  "celltoolbar": "Slideshow",
  "kernelspec": {
   "display_name": "Python 3 (ipykernel)",
   "language": "python",
   "name": "python3"
  },
  "language_info": {
   "codemirror_mode": {
    "name": "ipython",
    "version": 3
   },
   "file_extension": ".py",
   "mimetype": "text/x-python",
   "name": "python",
   "nbconvert_exporter": "python",
   "pygments_lexer": "ipython3",
   "version": "3.10.2"
  }
 },
 "nbformat": 4,
 "nbformat_minor": 5
}
