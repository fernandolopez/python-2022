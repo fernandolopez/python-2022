{
 "cells": [
  {
   "cell_type": "markdown",
   "id": "86759520",
   "metadata": {},
   "source": [
    "# Explicación Pandas  Python 2022"
   ]
  },
  {
   "cell_type": "markdown",
   "id": "48b1c11f",
   "metadata": {},
   "source": [
    "## Archivos de películas"
   ]
  },
  {
   "cell_type": "code",
   "execution_count": null,
   "id": "6e0d1f43",
   "metadata": {},
   "outputs": [],
   "source": [
    "import pandas as pd\n",
    "import os"
   ]
  },
  {
   "cell_type": "code",
   "execution_count": null,
   "id": "692a6420",
   "metadata": {},
   "outputs": [],
   "source": [
    "path_files = \"files\"\n",
    "path_arch = os.path.join(os.getcwd(), path_files)\n",
    "movies = 'mymoviedb.csv'\n",
    "peliculas = pd.read_csv((os.path.join(path_arch, movies)), encoding='utf-8' , lineterminator='\\n')"
   ]
  },
  {
   "cell_type": "code",
   "execution_count": null,
   "id": "c5c4e9cc",
   "metadata": {},
   "outputs": [],
   "source": [
    "peliculas"
   ]
  },
  {
   "cell_type": "markdown",
   "id": "83050f87",
   "metadata": {},
   "source": [
    "Cuando leían el archivo con el módulo csv habías una película que la tomaba en varias líneas, con pandas eso no sucede por lo tanto no es necesario borrar líneas con Overview vacías"
   ]
  },
  {
   "cell_type": "code",
   "execution_count": null,
   "id": "3bfbf2a1",
   "metadata": {},
   "outputs": [],
   "source": [
    "peliculas.loc[1104:1120]"
   ]
  },
  {
   "cell_type": "code",
   "execution_count": null,
   "id": "03bb9420",
   "metadata": {
    "scrolled": true
   },
   "outputs": [],
   "source": [
    "peliculas.columns"
   ]
  },
  {
   "cell_type": "code",
   "execution_count": null,
   "id": "d353764e",
   "metadata": {},
   "outputs": [],
   "source": [
    "type(peliculas)"
   ]
  },
  {
   "cell_type": "markdown",
   "id": "a53c3609",
   "metadata": {},
   "source": [
    "Podemos aplicar una función a una columna en particular"
   ]
  },
  {
   "cell_type": "code",
   "execution_count": null,
   "id": "485c3543",
   "metadata": {},
   "outputs": [],
   "source": [
    "peliculas[peliculas.Original_Language.apply(lambda x: x.startswith('e') )]"
   ]
  },
  {
   "cell_type": "code",
   "execution_count": null,
   "id": "27d7e049",
   "metadata": {},
   "outputs": [],
   "source": [
    "peliculas.Title.unique()"
   ]
  },
  {
   "cell_type": "code",
   "execution_count": null,
   "id": "378f00a9",
   "metadata": {},
   "outputs": [],
   "source": [
    "peliculas[peliculas.Original_Language.apply(lambda x: len(x)<=2 )]"
   ]
  },
  {
   "cell_type": "code",
   "execution_count": null,
   "id": "c0666c00",
   "metadata": {},
   "outputs": [],
   "source": [
    "!ls"
   ]
  },
  {
   "cell_type": "markdown",
   "id": "20738b36",
   "metadata": {},
   "source": [
    "Veamos algunas operaciones con el archivo de canciones de Spotify"
   ]
  },
  {
   "cell_type": "code",
   "execution_count": null,
   "id": "2c9ef07d",
   "metadata": {},
   "outputs": [],
   "source": [
    "spotify = 'Spotify 2010 - 2019 Top 100.csv'\n",
    "canciones = pd.read_csv(os.path.join(path_arch, spotify))"
   ]
  },
  {
   "cell_type": "code",
   "execution_count": null,
   "id": "9109f376",
   "metadata": {},
   "outputs": [],
   "source": [
    "canciones.tail(10)\n"
   ]
  },
  {
   "cell_type": "code",
   "execution_count": null,
   "id": "63a20b19",
   "metadata": {
    "scrolled": true
   },
   "outputs": [],
   "source": [
    "canciones.columns"
   ]
  },
  {
   "cell_type": "markdown",
   "id": "64c1308d",
   "metadata": {},
   "source": [
    "Para verificar que no confentan datos nulos, podemos consultar con la isntrucción de Pandas *isna*"
   ]
  },
  {
   "cell_type": "code",
   "execution_count": null,
   "id": "e4e66d10",
   "metadata": {},
   "outputs": [],
   "source": [
    "canciones.isna().sum()"
   ]
  },
  {
   "cell_type": "code",
   "execution_count": null,
   "id": "8d34cc1b",
   "metadata": {},
   "outputs": [],
   "source": [
    "Eliminamos todas las filas que contenga estos valores nulos"
   ]
  },
  {
   "cell_type": "code",
   "execution_count": null,
   "id": "57dd244c",
   "metadata": {},
   "outputs": [],
   "source": [
    "canciones = canciones.dropna()"
   ]
  },
  {
   "cell_type": "code",
   "execution_count": null,
   "id": "1c7dac10",
   "metadata": {},
   "outputs": [],
   "source": [
    "canciones.isna().sum()"
   ]
  },
  {
   "cell_type": "markdown",
   "id": "67665c90",
   "metadata": {},
   "source": [
    "Poner en “title case” los géneros musicales excepto las siglas EDM, DFW, UK, R&B y\n",
    "LGBTQ+ que deben ir en mayúsculas. Por ejemplo “dfw rap” debe ser transformado a\n",
    "“DFW Rap”"
   ]
  },
  {
   "cell_type": "code",
   "execution_count": null,
   "id": "589e6f18",
   "metadata": {},
   "outputs": [],
   "source": [
    "siglas = [\"edm\",\"dfw\",\"uk\",\"r&b\",\"lgbtq+\"]"
   ]
  },
  {
   "cell_type": "code",
   "execution_count": null,
   "id": "6b8d3137",
   "metadata": {},
   "outputs": [],
   "source": [
    "canciones['top genre'].unique()"
   ]
  },
  {
   "cell_type": "markdown",
   "id": "cb57eaeb",
   "metadata": {},
   "source": [
    "Verificar que algunas de las siglas está dentro de la coluna 'top genre'"
   ]
  },
  {
   "cell_type": "code",
   "execution_count": null,
   "id": "2c96fb5d",
   "metadata": {},
   "outputs": [],
   "source": [
    "canciones[canciones['top genre'].apply(lambda x: x.split(\" \", 1)[0] in(siglas))]"
   ]
  },
  {
   "cell_type": "markdown",
   "id": "f166aeba",
   "metadata": {},
   "source": [
    "En realidad lo que hace es verificar que estñen las siglas de forma exacta, no coincide en los casos en que el string es compuesto, veamos una opción para ejecutar varias operaciones en la misma instrucción"
   ]
  },
  {
   "cell_type": "code",
   "execution_count": null,
   "id": "0018b327",
   "metadata": {},
   "outputs": [],
   "source": [
    "canciones_upper = canciones.copy()"
   ]
  },
  {
   "cell_type": "code",
   "execution_count": null,
   "id": "c0720d84",
   "metadata": {},
   "outputs": [],
   "source": [
    "canciones_upper"
   ]
  },
  {
   "cell_type": "code",
   "execution_count": null,
   "id": "fcf22ea7",
   "metadata": {},
   "outputs": [],
   "source": [
    "canciones_upper['top genre'] = canciones['top genre'].apply(lambda x: x.upper() if x in siglas else x)"
   ]
  },
  {
   "cell_type": "code",
   "execution_count": null,
   "id": "f65ad0a4",
   "metadata": {},
   "outputs": [],
   "source": [
    "canciones_upper['top genre'].unique() "
   ]
  },
  {
   "cell_type": "code",
   "execution_count": null,
   "id": "a92b4c74",
   "metadata": {},
   "outputs": [],
   "source": [
    "def cambiar_formato_genero(genero):\n",
    "    \n",
    "    siglas_min = [\"edm\",\"dfw\",\"uk\",\"r&b\",\"lgbtq+\"]\n",
    "    genero_separados = genero.split(\" \",1)\n",
    "    \n",
    "    if(genero_separados[0] in siglas):\n",
    "        genero_separados[0] = genero_separados[0].upper()\n",
    "    genero_cambiado = \" \".join(genero_separados)\n",
    "    \n",
    "    return genero_cambiado"
   ]
  },
  {
   "cell_type": "code",
   "execution_count": null,
   "id": "2001cfd3",
   "metadata": {},
   "outputs": [],
   "source": [
    "canciones_upper['top genre'] = canciones['top genre'].apply(lambda x: cambiar_formato_genero(x))"
   ]
  },
  {
   "cell_type": "code",
   "execution_count": null,
   "id": "79685f2c",
   "metadata": {},
   "outputs": [],
   "source": [
    "canciones[canciones['top genre'].str.contains('dfw')]"
   ]
  },
  {
   "cell_type": "code",
   "execution_count": null,
   "id": "ca4454ca",
   "metadata": {},
   "outputs": [],
   "source": [
    "canciones_upper['top genre'].unique()"
   ]
  },
  {
   "cell_type": "markdown",
   "id": "655167d6",
   "metadata": {},
   "source": [
    "Operaciones y gráficos con el archivo de películas de Netflix"
   ]
  },
  {
   "cell_type": "code",
   "execution_count": null,
   "id": "3679b5c0",
   "metadata": {},
   "outputs": [],
   "source": [
    "import os"
   ]
  },
  {
   "cell_type": "code",
   "execution_count": null,
   "id": "36e0786b",
   "metadata": {},
   "outputs": [],
   "source": [
    "path_files = \"files\"\n",
    "path_arch = os.path.join(os.getcwd(), path_files)\n",
    "\n",
    "archivo_net = \"netflix_titles.csv\""
   ]
  },
  {
   "cell_type": "code",
   "execution_count": null,
   "id": "da202c14",
   "metadata": {},
   "outputs": [],
   "source": [
    "d_netflix = pd.read_csv(os.path.join(path_arch, archivo_net))"
   ]
  },
  {
   "cell_type": "code",
   "execution_count": null,
   "id": "d935229a",
   "metadata": {},
   "outputs": [],
   "source": [
    "d_netflix.columns"
   ]
  },
  {
   "cell_type": "code",
   "execution_count": null,
   "id": "354069f0",
   "metadata": {},
   "outputs": [],
   "source": [
    "d_netflix.dtypes"
   ]
  },
  {
   "cell_type": "code",
   "execution_count": null,
   "id": "8f4447e2",
   "metadata": {},
   "outputs": [],
   "source": [
    "d_netflix.isnull().sum()"
   ]
  },
  {
   "cell_type": "markdown",
   "id": "5afb4abd",
   "metadata": {},
   "source": [
    "## Algunos gráficos simples de realizar con matplotlib\n",
    "\n",
    "Mostrar la cantidad de shows según el año de los útimos 10 a través de un gráfico de barras\n",
    "* Ordenar los datos por año\n",
    "* Contar la cantidad de cada año"
   ]
  },
  {
   "cell_type": "code",
   "execution_count": null,
   "id": "e39ad382",
   "metadata": {},
   "outputs": [],
   "source": [
    "d_netflix['release_year'].sort_values()"
   ]
  },
  {
   "cell_type": "code",
   "execution_count": null,
   "id": "4ae4a4b5",
   "metadata": {},
   "outputs": [],
   "source": [
    "d_netflix['release_year'].sort_values().value_counts()"
   ]
  },
  {
   "cell_type": "markdown",
   "id": "d50c5351",
   "metadata": {},
   "source": [
    "Nos quedamos con los últimos 10 años"
   ]
  },
  {
   "cell_type": "code",
   "execution_count": null,
   "id": "9963fa10",
   "metadata": {},
   "outputs": [],
   "source": [
    "d_netflix['release_year'].sort_values().value_counts()[:10]"
   ]
  },
  {
   "cell_type": "code",
   "execution_count": null,
   "id": "97b2ee83",
   "metadata": {},
   "outputs": [],
   "source": [
    "d_netflix['release_year'].sort_values().value_counts()[:10].plot(kind='bar')"
   ]
  },
  {
   "cell_type": "markdown",
   "id": "47f24be4",
   "metadata": {},
   "source": [
    "Fijensen que como ordena por **cantidad** de cada año, no muestra los últimos 10 años, sino los últimos 10 años que más shows tuvieron"
   ]
  },
  {
   "cell_type": "code",
   "execution_count": null,
   "id": "d87b9650",
   "metadata": {},
   "outputs": [],
   "source": [
    "d_netflix.groupby(['release_year'])"
   ]
  },
  {
   "cell_type": "markdown",
   "id": "7a5a3cfb",
   "metadata": {},
   "source": [
    "[groupby](https://pandas.pydata.org/pandas-docs/stable/reference/api/pandas.DataFrame.groupby.html) agrupa en función de la columna que le indicamos, podemos quedarnos solo con los datos "
   ]
  },
  {
   "cell_type": "code",
   "execution_count": null,
   "id": "fc11072f",
   "metadata": {},
   "outputs": [],
   "source": [
    "d_netflix.groupby(['release_year'])['release_year']"
   ]
  },
  {
   "cell_type": "markdown",
   "id": "3b8f5e48",
   "metadata": {},
   "source": [
    "Al agrupar debemos indicar qué queremos hacer con los demás datos en función de esa columna, en nuestro caso queremos saber cuántos hay en cada agrupamiento"
   ]
  },
  {
   "cell_type": "code",
   "execution_count": null,
   "id": "cbe6003f",
   "metadata": {},
   "outputs": [],
   "source": [
    "d_netflix.groupby(['release_year'])['release_year'].count()"
   ]
  },
  {
   "cell_type": "code",
   "execution_count": null,
   "id": "18801153",
   "metadata": {},
   "outputs": [],
   "source": [
    "d_netflix.groupby(['release_year'])['release_year'].count().tail(10).plot(kind='bar')"
   ]
  },
  {
   "cell_type": "markdown",
   "id": "25f5986d",
   "metadata": {},
   "source": [
    "Comparar la cantidad de tipos de shows en los últimos x años."
   ]
  },
  {
   "cell_type": "code",
   "execution_count": null,
   "id": "717f270c",
   "metadata": {},
   "outputs": [],
   "source": [
    "d_netflix['type']"
   ]
  },
  {
   "cell_type": "code",
   "execution_count": null,
   "id": "5ee4ac03",
   "metadata": {},
   "outputs": [],
   "source": [
    "d_netflix.type.unique()"
   ]
  },
  {
   "cell_type": "code",
   "execution_count": null,
   "id": "af2c9688",
   "metadata": {},
   "outputs": [],
   "source": [
    "d_netflix.groupby(['release_year', 'type'])['release_year'].count().tail(20).unstack(0).plot.barh()"
   ]
  },
  {
   "cell_type": "markdown",
   "id": "7fd755fd",
   "metadata": {},
   "source": [
    "# Archivo de eventos\n",
    "Veamos las estadísticas"
   ]
  },
  {
   "cell_type": "code",
   "execution_count": null,
   "id": "0402e374",
   "metadata": {},
   "outputs": [],
   "source": [
    "import os"
   ]
  },
  {
   "cell_type": "code",
   "execution_count": null,
   "id": "494a878f",
   "metadata": {},
   "outputs": [],
   "source": [
    "df_juego = pd.read_csv(os.path.join(path_files,'datos de prueba - datos.csv'))"
   ]
  },
  {
   "cell_type": "code",
   "execution_count": null,
   "id": "5bb28b15",
   "metadata": {},
   "outputs": [],
   "source": [
    "df_juego"
   ]
  },
  {
   "cell_type": "code",
   "execution_count": null,
   "id": "9e53591e",
   "metadata": {},
   "outputs": [],
   "source": [
    "df_juego.columns"
   ]
  },
  {
   "cell_type": "markdown",
   "id": "9a43db37",
   "metadata": {},
   "source": [
    "Nos podemos quedar con un partida en particular:"
   ]
  },
  {
   "cell_type": "code",
   "execution_count": null,
   "id": "3a54dc92",
   "metadata": {},
   "outputs": [],
   "source": [
    "df_juego[df_juego['Partida']==1]"
   ]
  },
  {
   "cell_type": "markdown",
   "id": "8654c4d9",
   "metadata": {},
   "source": [
    "O con filas en que el estado sea uno en particular"
   ]
  },
  {
   "cell_type": "code",
   "execution_count": null,
   "id": "a87465e2",
   "metadata": {},
   "outputs": [],
   "source": [
    "df_juego[df_juego['Estado ']=='ok']"
   ]
  },
  {
   "cell_type": "markdown",
   "id": "74d5879e",
   "metadata": {},
   "source": [
    "Seleccionar filas donde el evento sea fin y quedarse con la columna *usuarie -genero*"
   ]
  },
  {
   "cell_type": "code",
   "execution_count": null,
   "id": "2c7178eb",
   "metadata": {},
   "outputs": [],
   "source": [
    "df_juego[df_juego['Nombre de evento']=='fin']['usuarie -genero'].value_counts()"
   ]
  },
  {
   "cell_type": "code",
   "execution_count": null,
   "id": "a76721ec",
   "metadata": {},
   "outputs": [],
   "source": [
    "df_juego.rename(columns={'Estado ':'Estado'}, inplace=True)"
   ]
  },
  {
   "cell_type": "code",
   "execution_count": null,
   "id": "48e931fa",
   "metadata": {},
   "outputs": [],
   "source": [
    "df_juego.columns"
   ]
  },
  {
   "cell_type": "markdown",
   "id": "11e6d3cf",
   "metadata": {},
   "source": [
    "¿Cómo manejamos el tiempo?"
   ]
  },
  {
   "cell_type": "code",
   "execution_count": null,
   "id": "6dfc4448",
   "metadata": {},
   "outputs": [],
   "source": [
    "from datetime import datetime\n",
    "import time"
   ]
  },
  {
   "cell_type": "code",
   "execution_count": null,
   "id": "bebc5a60",
   "metadata": {},
   "outputs": [],
   "source": [
    "df_juego.Tiempo"
   ]
  },
  {
   "cell_type": "code",
   "execution_count": null,
   "id": "4e7261b1",
   "metadata": {},
   "outputs": [],
   "source": [
    "time.time()"
   ]
  },
  {
   "cell_type": "code",
   "execution_count": null,
   "id": "a7949246",
   "metadata": {},
   "outputs": [],
   "source": [
    "\n",
    "datetime.timestamp(datetime.now())"
   ]
  },
  {
   "cell_type": "code",
   "execution_count": null,
   "id": "02aee739",
   "metadata": {},
   "outputs": [],
   "source": [
    "evento_time = int(time.time())\n",
    "evento_time"
   ]
  },
  {
   "cell_type": "markdown",
   "id": "57dbc776",
   "metadata": {},
   "source": [
    "Obtener el día de la semana en que se jugó"
   ]
  },
  {
   "cell_type": "code",
   "execution_count": null,
   "id": "97c9eff7",
   "metadata": {},
   "outputs": [],
   "source": [
    "datetime.fromtimestamp(evento_time).weekday()"
   ]
  },
  {
   "cell_type": "code",
   "execution_count": null,
   "id": "b308301e",
   "metadata": {},
   "outputs": [],
   "source": [
    "evento = int(datetime.timestamp(datetime.now()))"
   ]
  },
  {
   "cell_type": "code",
   "execution_count": null,
   "id": "f3d6b354",
   "metadata": {},
   "outputs": [],
   "source": [
    "Convertir el número entero en fecha y luego darle formato con string a través de patrones"
   ]
  },
  {
   "cell_type": "code",
   "execution_count": null,
   "id": "da8927f5",
   "metadata": {},
   "outputs": [],
   "source": [
    "fecha = datetime.fromtimestamp(evento_time)"
   ]
  },
  {
   "cell_type": "code",
   "execution_count": null,
   "id": "4f76731a",
   "metadata": {},
   "outputs": [],
   "source": [
    "fecha.strftime(\"%m/%d/%Y, %H:%M:%S\")"
   ]
  },
  {
   "cell_type": "code",
   "execution_count": null,
   "id": "c65d573c",
   "metadata": {},
   "outputs": [],
   "source": [
    "fecha.strftime(\"%d/%m/%Y, %H:%M:%S\")"
   ]
  },
  {
   "cell_type": "code",
   "execution_count": null,
   "id": "4923b38e",
   "metadata": {},
   "outputs": [],
   "source": [
    "fecha.strftime(\"%A %d/%m/%y, %H:%M:%S\")"
   ]
  },
  {
   "cell_type": "code",
   "execution_count": null,
   "id": "13b5ab4f",
   "metadata": {},
   "outputs": [],
   "source": [
    "fecha.weekday()"
   ]
  },
  {
   "cell_type": "code",
   "execution_count": null,
   "id": "de19de80",
   "metadata": {},
   "outputs": [],
   "source": [
    "fecha.hour"
   ]
  },
  {
   "cell_type": "markdown",
   "id": "3e06b921",
   "metadata": {},
   "source": [
    "Buscar los días de la semana en que se jugó aplicando la función de conversión de entero a fecha a cada fila de la columna *Tiempo*"
   ]
  },
  {
   "cell_type": "code",
   "execution_count": null,
   "id": "10d2e01d",
   "metadata": {},
   "outputs": [],
   "source": [
    "df_juego.Tiempo.apply(lambda x:datetime.fromtimestamp(x).weekday() ).unique()"
   ]
  },
  {
   "cell_type": "code",
   "execution_count": null,
   "id": "4598e20c",
   "metadata": {},
   "outputs": [],
   "source": [
    "df_juego.columns"
   ]
  },
  {
   "cell_type": "code",
   "execution_count": null,
   "id": "643973d5",
   "metadata": {},
   "outputs": [],
   "source": [
    "Obtener los ID únicos de las partidas"
   ]
  },
  {
   "cell_type": "code",
   "execution_count": null,
   "id": "a0cab468",
   "metadata": {},
   "outputs": [],
   "source": [
    "list(df_juego.Partida.unique())"
   ]
  },
  {
   "cell_type": "code",
   "execution_count": null,
   "id": "28c6ce33",
   "metadata": {},
   "outputs": [],
   "source": [
    "Calcular el tiempo entre el inicio y fin de una partida en particular"
   ]
  },
  {
   "cell_type": "code",
   "execution_count": null,
   "id": "e9c10b82",
   "metadata": {},
   "outputs": [],
   "source": [
    "ini_1 = df_juego[df_juego['Partida']==1].iloc[0].Tiempo"
   ]
  },
  {
   "cell_type": "code",
   "execution_count": null,
   "id": "c5740155",
   "metadata": {},
   "outputs": [],
   "source": [
    "ini_2 =  df_juego[df_juego['Partida']==1].iloc[-1].Tiempo"
   ]
  },
  {
   "cell_type": "code",
   "execution_count": null,
   "id": "8e1d0730",
   "metadata": {},
   "outputs": [],
   "source": [
    "ini_1"
   ]
  },
  {
   "cell_type": "code",
   "execution_count": null,
   "id": "9a321ea0",
   "metadata": {},
   "outputs": [],
   "source": [
    "segundos =(datetime.fromtimestamp(ini_2) - datetime.fromtimestamp(ini_1))"
   ]
  },
  {
   "cell_type": "code",
   "execution_count": null,
   "id": "2dfb0e8d",
   "metadata": {},
   "outputs": [],
   "source": [
    "segundos.total_seconds()"
   ]
  },
  {
   "cell_type": "code",
   "execution_count": null,
   "id": "80943ec0",
   "metadata": {},
   "outputs": [],
   "source": []
  }
 ],
 "metadata": {
  "kernelspec": {
   "display_name": "Python 3 (ipykernel)",
   "language": "python",
   "name": "python3"
  },
  "language_info": {
   "codemirror_mode": {
    "name": "ipython",
    "version": 3
   },
   "file_extension": ".py",
   "mimetype": "text/x-python",
   "name": "python",
   "nbconvert_exporter": "python",
   "pygments_lexer": "ipython3",
   "version": "3.10.4"
  }
 },
 "nbformat": 4,
 "nbformat_minor": 5
}
