{
 "cells": [
  {
   "cell_type": "markdown",
   "id": "41996d0c",
   "metadata": {},
   "source": [
    "# Jupyter Notebook\n",
    "\n",
    "* ¿Qué es?\n",
    "* Instalación\n",
    "* Formas de utilización\n",
    "* Algunas funcionalidades\n",
    "* Exportar\n"
   ]
  },
  {
   "cell_type": "markdown",
   "id": "46c347b5",
   "metadata": {},
   "source": [
    "En la guía subida al [portal](https://python-unlp.github.io/2022/guias/11_jupyter_notebook/) encontrarán algunas consideraciones generales para tener en cuenta."
   ]
  },
  {
   "cell_type": "markdown",
   "id": "d0c98f76",
   "metadata": {},
   "source": [
    "## ¿Qué es?\n",
    "* Es una [herramienta](https://jupyter.org/) flexible y dinámica que permite la ejecución de código simple a modo de guía y visualización.\n",
    "* permite ejecutar código python y otros lenguajes.\n",
    "* cada celda tiene la posibilidad de configurarse para código ejecutable o markdown.\n",
    "* la ejecución es lineal y las variables se guardan a lo largo de todo el notebook.\n",
    "* pueden encontrar repositorios de proyectos en github que ponen notebook con ejemplos para ejecutar y probar.\n",
    "* la utilización de [widgets](https://jupyter.org/widgets) permite agregar funcionalidades al notebook"
   ]
  },
  {
   "cell_type": "markdown",
   "id": "9e384172",
   "metadata": {},
   "source": [
    "## Instalación\n",
    "* Puede instalarse en forma [local](https://jupyter.org/install)\n",
    "* Puede instalarse como [servidor](https://tljh.jupyter.org/en/latest/index.html) y generar cuentas para usuaries\n",
    "* Jupyter-Lab es una versión con más funcionalidades que aún está desarrollándose\n"
   ]
  },
  {
   "cell_type": "markdown",
   "id": "2eea5ff4",
   "metadata": {},
   "source": [
    "# Formas de utilizarlo"
   ]
  },
  {
   "cell_type": "markdown",
   "id": "8be514d3",
   "metadata": {},
   "source": [
    "## Local\n",
    "* al instalarlo poder ejecutarlo desde una terminal\n",
    "```bash\n",
    "$jupyter notebook\n",
    "```\n",
    "* se inicia en un navegador web\n",
    "* podes crear, modificar archivos, carpetas, exportar desde donde ejecutas la orden\n"
   ]
  },
  {
   "cell_type": "markdown",
   "id": "a949d845",
   "metadata": {},
   "source": [
    "## Remoto\n",
    "* utilizando un servidor instalado y con cuenta creada.\n",
    "* [google-colab](https://colab.research.google.com/) es una opción de acceso online y compartido, soporta gran cantidad de librerías además de python, hay que verificar las versiones que se usan.\n",
    "* conectar el repositorio de código público con [binder](https://mybinder.org/)"
   ]
  },
  {
   "cell_type": "markdown",
   "id": "3cc849aa",
   "metadata": {},
   "source": [
    "# Algunas funcionalidades"
   ]
  },
  {
   "cell_type": "markdown",
   "id": "c1244d17",
   "metadata": {},
   "source": [
    "* Atajos:\n",
    "   * Ejecutar una celda y pasara la siguiente → Shift + Enter\n",
    "   * Ejecutar una celda y permanecer en la misma → Ctrl + Enter\n",
    "   * Ejecutar una celda y crear una nueva -> Alt + Enter\n",
    "   * Salir del modo edición  para pasar al modo selección → Escape\n",
    "   * Salir del modo selección para entrar al modo edición  → Enter\n",
    "   * Agregar una celda debajo de la actual →  modo selección  + ”b”\n",
    "   * Agregar una celda arriba de la actual →  modo selección  + ”a”\n",
    "   * Convertir una celda de código a markdown → modo selección + ”m”\n",
    "  "
   ]
  },
  {
   "cell_type": "code",
   "execution_count": null,
   "id": "56d5acc4",
   "metadata": {},
   "outputs": [],
   "source": [
    "?"
   ]
  },
  {
   "cell_type": "markdown",
   "id": "c4a30797",
   "metadata": {},
   "source": [
    "* Instalando librerías"
   ]
  },
  {
   "cell_type": "code",
   "execution_count": null,
   "id": "8756269a",
   "metadata": {},
   "outputs": [],
   "source": [
    "pip install pandas\n"
   ]
  },
  {
   "cell_type": "markdown",
   "id": "396c7f78",
   "metadata": {},
   "source": [
    "* Usando código de lenguajes en celdas markdown:\n",
    "\n",
    "```bash\n",
    "$pip install pandas\n",
    "```\n",
    "\n",
    "```Python\n",
    "print(f'hola')\n",
    "```"
   ]
  },
  {
   "cell_type": "markdown",
   "id": "ccebc225",
   "metadata": {},
   "source": [
    "* Comandos especiales - [magic](https://ipython.readthedocs.io/en/stable/interactive/magics.html?highlight=magic)"
   ]
  },
  {
   "cell_type": "code",
   "execution_count": null,
   "id": "897780e3",
   "metadata": {},
   "outputs": [],
   "source": [
    "%timeit L = [n ** 2 for n in range (1000) ]\n"
   ]
  },
  {
   "cell_type": "code",
   "execution_count": null,
   "id": "da94c993",
   "metadata": {},
   "outputs": [],
   "source": [
    "%%timeit\n",
    "L = []\n",
    "for n in range (1000) :\n",
    "    L.append (n ** 2)"
   ]
  },
  {
   "cell_type": "markdown",
   "id": "7f1d0d33",
   "metadata": {},
   "source": [
    "## Comparación eficiencia entre map y for"
   ]
  },
  {
   "cell_type": "code",
   "execution_count": null,
   "id": "8fa7bfef",
   "metadata": {},
   "outputs": [],
   "source": [
    "%%timeit\n",
    "lista = [1,2,3,4,5,6,7,8,9]\n",
    "lista_dupl = []\n",
    "for cada in lista:\n",
    "    lista_dupl.append(cada*2)\n",
    "lista_dupl\n"
   ]
  },
  {
   "cell_type": "code",
   "execution_count": null,
   "id": "d83477af",
   "metadata": {},
   "outputs": [],
   "source": [
    "lista = [1,2,3,4,5,6,7,8,9]\n",
    "%timeit lista_map_dupl = map(lambda x:x*2, lista)\n"
   ]
  },
  {
   "cell_type": "code",
   "execution_count": null,
   "id": "7c083d33",
   "metadata": {},
   "outputs": [],
   "source": [
    "def dupl(x):\n",
    "    return x*2\n",
    "%timeit lista_map_dupl = map(dupl, lista)"
   ]
  },
  {
   "cell_type": "code",
   "execution_count": null,
   "id": "449ba5f5",
   "metadata": {},
   "outputs": [],
   "source": [
    "list(lista_map_dupl)"
   ]
  },
  {
   "cell_type": "code",
   "execution_count": null,
   "id": "90d759dd",
   "metadata": {},
   "outputs": [],
   "source": [
    "%timeit L = [n * 2 for n in lista ]"
   ]
  },
  {
   "cell_type": "markdown",
   "id": "870bedf4",
   "metadata": {},
   "source": [
    "* El formato de las celdas de [markdown](https://markdown-guide.readthedocs.io/en/latest/) está definido por las características del mismo:\n",
    "    * Agregar imágenes\n",
    "    * listas\n",
    "    * links\n",
    "    * videos\n"
   ]
  },
  {
   "cell_type": "markdown",
   "id": "b3a14419",
   "metadata": {},
   "source": [
    "* No es necesario realizar un print para ver el contenido de una variable"
   ]
  },
  {
   "cell_type": "code",
   "execution_count": null,
   "id": "41f3dd82",
   "metadata": {},
   "outputs": [],
   "source": [
    "lista\n"
   ]
  },
  {
   "cell_type": "code",
   "execution_count": null,
   "id": "d4e81f7e",
   "metadata": {
    "scrolled": false
   },
   "outputs": [],
   "source": [
    "texto = ''' NumPy is the fundamental package needed for scientific computing with Python.\n",
    "\n",
    "    Website: https://www.numpy.org\n",
    "    Documentation: https://numpy.org/doc\n",
    "    Mailing list: https://mail.python.org/mailman/listinfo/numpy-discussion\n",
    "    Source code: https://github.com/numpy/numpy\n",
    "    Contributing: https://www.numpy.org/devdocs/dev/index.html\n",
    "    Bug reports: https://github.com/numpy/numpy/issues\n",
    "    Report a security vulnerability: https://tidelift.com/docs/security\n",
    "\n",
    "It provides:\n",
    "\n",
    "    a powerful N-dimensional array object\n",
    "    sophisticated (broadcasting) functions\n",
    "    tools for integrating C/C++ and Fortran code\n",
    "    useful linear algebra, Fourier transform, and random number capabilities\n",
    "\n",
    "Testing:\n",
    "\n",
    "    NumPy versions ≥ 1.15 require pytest\n",
    "    NumPy versions < 1.15 require nose\n",
    "\n",
    "Tests can then be run after installation with:\n",
    "\n",
    "python -c 'import numpy; numpy.test()'\n",
    "\n",
    "Call for Contributions\n",
    "\n",
    "The NumPy project welcomes your expertise and enthusiasm!\n",
    "\n",
    "Small improvements or fixes are always appreciated; issues labeled as \"good first issue\" may be a good starting point. If you are considering larger contributions to the source code, please contact us through the mailing list first.\n",
    "\n",
    "Writing code isn’t the only way to contribute to NumPy. You can also:\n",
    "\n",
    "    review pull requests\n",
    "    triage issues\n",
    "    develop tutorials, presentations, and other educational materials\n",
    "    maintain and improve our website\n",
    "    develop graphic design for our brand assets and promotional materials\n",
    "    translate website content\n",
    "    help with outreach and onboard new contributors\n",
    "    write grant proposals and help with other fundraising efforts\n",
    "\n",
    "If you’re unsure where to start or how your skills fit in, reach out! You can ask on the mailing list or here, on GitHub, by opening a new issue or leaving a comment on a relevant issue that is already open.\n",
    "\n",
    "Our preferred channels of communication are all public, but if you’d like to speak to us in private first, contact our community coordinators at numpy-team@googlegroups.com or on Slack (write numpy-team@googlegroups.com for an invite).\n",
    "\n",
    "We also have a biweekly community call, details of which are announced on the mailing list. You are very welcome to join.\n",
    "\n",
    "If you are new to contributing to open source, this guide helps explain why, what, and how to successfully get involved.\n",
    "\n",
    "Powered by NumFOCUS\n",
    "About\n",
    "\n",
    "The fundamental package for scientific computing with Python.\n",
    "numpy.org\n",
    "Topics\n",
    "python numpy\n",
    "Resources\n",
    "Readme\n",
    "License\n",
    "BSD-3-Clause License\n",
    "Releases 183\n",
    "v1.20.1 Latest\n",
    "on 7 Feb\n",
    "+ 182 releases\n",
    "Sponsor this project\n",
    "\n",
    "    @numfocus\n",
    "    numfocus NumFOCUS \n",
    "\n",
    "    tidelift tidelift.com/funding/github/pypi/numpy\n",
    "\n",
    "    https://numpy.org/about/\n",
    "\n",
    "Learn more about GitHub Sponsors\n",
    "Packages\n",
    "No packages published\n",
    "Used by 617k\n",
    "\n",
    "    @sktatsuno\n",
    "    @Andy-CH-BO-AN\n",
    "    @sinablk\n",
    "    @bartmch\n",
    "    @dydwkd486\n",
    "    @mochibbb\n",
    "    @ishujais\n",
    "    @khoa-luan\n",
    "\n",
    "+ 617,044\n",
    "Contributors 1,083\n",
    "\n",
    "    @charris\n",
    "    @teoliphant\n",
    "    @mattip\n",
    "    @cournape\n",
    "    @eric-wieser\n",
    "    @seberg\n",
    "    @pearu\n",
    "    @rgommers\n",
    "    @pv\n",
    "    @juliantaylor\n",
    "    @mwiebe\n",
    "\n",
    "+ 1,072 contributors\n",
    "Languages\n",
    "\n",
    "Python 63.4%\n",
    "C 35.3%\n",
    "C++ 1.0%\n",
    "JavaScript 0.1%\n",
    "Fortran 0.1%\n",
    "Shell 0.1%'''\n",
    "texto.split(' ')"
   ]
  },
  {
   "cell_type": "code",
   "execution_count": null,
   "id": "8d9e6e28",
   "metadata": {},
   "outputs": [],
   "source": [
    "texto_mod = texto.split('\\n')\n",
    "texto_mod"
   ]
  },
  {
   "cell_type": "markdown",
   "id": "f200154b",
   "metadata": {},
   "source": [
    "* Modificar varias líneas en forma simultánea"
   ]
  },
  {
   "cell_type": "code",
   "execution_count": null,
   "id": "5520bd27",
   "metadata": {},
   "outputs": [],
   "source": [
    "person = {\"name\": \"María\", \"age\": 50}\n",
    "print(f\"Nombre: person.get(\"name\")')\n",
    "print(f\"Edad: person.get(\"age\", 20)')\n",
    "print(f\"Dirección: person.get(\"address\")')\n",
    "print(f\"Email: person.get(\"email\", \"defaul@email.com\")')\n",
    "\n",
    "print(f\"Otra forma de obtener el nombe: person[\"name\"]')"
   ]
  },
  {
   "cell_type": "markdown",
   "id": "abae4fa8",
   "metadata": {},
   "source": [
    "### Ejemplo con algunas funciones vistas\n",
    "\n",
    "Dado un string que contiene datos de los puntajes de un juego, realice un programa que permita obtener los puntajes ordenados según el nivel que se desee"
   ]
  },
  {
   "cell_type": "code",
   "execution_count": null,
   "id": "a95dab03",
   "metadata": {},
   "outputs": [],
   "source": [
    "puntajes_nivel ='''maria: 160, uno\n",
    "Ailen: 45, uno\n",
    "Ana: 154, dos\n",
    "Dolores: 186, tres\n",
    "Inti: 185, dos\n",
    "Iona: 181, dos\n",
    "Jimena: 162, tres\n",
    "Laura: 86, uno\n",
    "Ludmila: 23, uno\n",
    "Luján: 117, dos\n",
    "Celina: 47, dos\n",
    "Mariana: 174, tres\n",
    "Mercedes: 152 tres'''\n"
   ]
  },
  {
   "cell_type": "markdown",
   "id": "fb63989a",
   "metadata": {},
   "source": [
    "¿Cómo separamos el string?"
   ]
  },
  {
   "cell_type": "code",
   "execution_count": null,
   "id": "fc9c09c4",
   "metadata": {},
   "outputs": [],
   "source": [
    "pn = puntajes_nivel.split('\\n')"
   ]
  },
  {
   "cell_type": "code",
   "execution_count": null,
   "id": "6344f76e",
   "metadata": {},
   "outputs": [],
   "source": [
    "pn\n"
   ]
  },
  {
   "cell_type": "markdown",
   "id": "598417c5",
   "metadata": {},
   "source": [
    "*  Generamos una estructura que permita acceder más facilmente"
   ]
  },
  {
   "cell_type": "code",
   "execution_count": null,
   "id": "21c10fa9",
   "metadata": {},
   "outputs": [],
   "source": [
    "datos ={}\n",
    "for linea in pn:\n",
    "    nom, punt, nivel = linea.split()\n",
    "    print(nom.split(':')[0])\n",
    "    print(punt.split(',')[0].strip())\n",
    "    print(nivel.strip())"
   ]
  },
  {
   "cell_type": "code",
   "execution_count": null,
   "id": "1633fd5c",
   "metadata": {},
   "outputs": [],
   "source": [
    "datos ={}\n",
    "for linea in pn:\n",
    "    nom, punt, nivel = linea.split()\n",
    "    datos[nom.split(':')[0]] = {'puntaje': int(punt.split(',')[0].strip()), 'nivel':nivel.strip()}\n",
    "datos"
   ]
  },
  {
   "cell_type": "markdown",
   "id": "39496835",
   "metadata": {},
   "source": [
    "* ¿Cómo podemos ordenar nuestros datos?\n",
    "\n",
    "Ordenar las keys"
   ]
  },
  {
   "cell_type": "code",
   "execution_count": null,
   "id": "cc86dd55",
   "metadata": {},
   "outputs": [],
   "source": [
    "sorted(datos)"
   ]
  },
  {
   "cell_type": "markdown",
   "id": "d340b74a",
   "metadata": {},
   "source": [
    "* Ordenar por puntaje"
   ]
  },
  {
   "cell_type": "code",
   "execution_count": null,
   "id": "a33e079f",
   "metadata": {},
   "outputs": [],
   "source": [
    "datos.keys()\n"
   ]
  },
  {
   "cell_type": "code",
   "execution_count": null,
   "id": "f91d836a",
   "metadata": {},
   "outputs": [],
   "source": [
    "datos.values()"
   ]
  },
  {
   "cell_type": "code",
   "execution_count": null,
   "id": "805d163f",
   "metadata": {},
   "outputs": [],
   "source": [
    "datos.items()"
   ]
  },
  {
   "cell_type": "code",
   "execution_count": null,
   "id": "68fd9b7c",
   "metadata": {},
   "outputs": [],
   "source": [
    "sorted(datos.items(), key= lambda x:x[1]['puntaje'])"
   ]
  },
  {
   "cell_type": "markdown",
   "id": "482aa0e7",
   "metadata": {},
   "source": [
    "* Ordenar por nivel"
   ]
  },
  {
   "cell_type": "code",
   "execution_count": null,
   "id": "1900e6ad",
   "metadata": {},
   "outputs": [],
   "source": [
    "sorted(datos.items(), key= lambda x:x[1]['nivel'])"
   ]
  },
  {
   "cell_type": "markdown",
   "id": "9fa50958",
   "metadata": {},
   "source": [
    "* Obtener los del nivel \"uno\""
   ]
  },
  {
   "cell_type": "code",
   "execution_count": null,
   "id": "2b681f99",
   "metadata": {},
   "outputs": [],
   "source": [
    "nivel_uno = list(filter(lambda x:x[1]['nivel'] =='uno', datos.items()))"
   ]
  },
  {
   "cell_type": "code",
   "execution_count": null,
   "id": "7b3ab738",
   "metadata": {},
   "outputs": [],
   "source": [
    "nivel_uno"
   ]
  },
  {
   "cell_type": "code",
   "execution_count": null,
   "id": "0e6eb30d",
   "metadata": {},
   "outputs": [],
   "source": [
    "def por_nivel(dat, n):\n",
    "    return list(filter(lambda x:x[1]['nivel'] ==n, datos.items()))\n",
    "nivel_ingre = input('ingrese el nivel: (uno, dos,tres)')\n",
    "while not nivel_ingre=='':\n",
    "    print(por_nivel(datos, nivel_ingre))\n",
    "    nivel_ingre = input('ingrese el nivel: (uno, dos,tres)')"
   ]
  },
  {
   "cell_type": "markdown",
   "id": "b463f92f",
   "metadata": {},
   "source": [
    "### Ejemplo pattern matching"
   ]
  },
  {
   "cell_type": "code",
   "execution_count": null,
   "id": "3a56e24d",
   "metadata": {},
   "outputs": [],
   "source": [
    "numero = int(input(\"Ingrese un número: \"))\n",
    "match numero:\n",
    "    case 1:\n",
    "        print(\"Uno\")\n",
    "    case 2:\n",
    "        print(\"Dos\")\n",
    "    case _:\n",
    "        print(\"Otra cosa\")\n",
    "\n",
    "\n"
   ]
  },
  {
   "cell_type": "code",
   "execution_count": null,
   "id": "6354247f",
   "metadata": {},
   "outputs": [],
   "source": [
    "\n",
    "def avanzar(distancia):\n",
    "    print(f\"Robot avanza {distancia} cm\")\n",
    "\n",
    "\n",
    "def girar(grados):\n",
    "    print(f\"Robot gira {grados} grados\")\n",
    "\n",
    "\n",
    "def frenar():\n",
    "    print(\"Robot frena\")\n",
    "\n"
   ]
  },
  {
   "cell_type": "code",
   "execution_count": null,
   "id": "3fd97cfb",
   "metadata": {},
   "outputs": [],
   "source": [
    "\n",
    "while True:\n",
    "    orden = input(\"Comando: \").split()\n",
    "    match orden:\n",
    "        case [\"avanzar\", distancia]:\n",
    "            avanzar(int(distancia))\n",
    "        case [\"girar\", grados]:\n",
    "            girar(float(grados))\n",
    "        case [\"frenar\"]:\n",
    "            frenar()\n",
    "        case [\"salir\"]:\n",
    "            break\n",
    "        case otracosa:\n",
    "            print(f\"No entiendo el comando: {otracosa}\")"
   ]
  },
  {
   "cell_type": "code",
   "execution_count": 43,
   "id": "abaf99d2",
   "metadata": {},
   "outputs": [
    {
     "name": "stdout",
     "output_type": "stream",
     "text": [
      "encontre True\n",
      "encontre False\n",
      "encontre False\n",
      "encontre False\n",
      "encontre False\n"
     ]
    }
   ],
   "source": [
    "patrones= [True, False, [], None, 0]\n",
    "for i in patrones:\n",
    "    if i == True:\n",
    "        print(f'encontre True')\n",
    "    else:\n",
    "        print(f'encontre False')"
   ]
  },
  {
   "cell_type": "code",
   "execution_count": 44,
   "id": "8fb5670d",
   "metadata": {},
   "outputs": [
    {
     "name": "stdout",
     "output_type": "stream",
     "text": [
      "encontre True\n",
      "encontre False\n",
      "otra cosa\n",
      "otra cosa\n",
      "otra cosa\n"
     ]
    }
   ],
   "source": [
    "patrones= [True, False, [], None, 0]\n",
    "for i in patrones:\n",
    "    match i:\n",
    "        case True:\n",
    "            print(f'encontre True')\n",
    "        case False:\n",
    "            print(f'encontre False')\n",
    "        case _:\n",
    "            print(f'otra cosa')"
   ]
  },
  {
   "cell_type": "code",
   "execution_count": null,
   "id": "58b533ad",
   "metadata": {},
   "outputs": [],
   "source": [
    "list(range(2,20,4))"
   ]
  },
  {
   "cell_type": "markdown",
   "id": "f4e52772",
   "metadata": {},
   "source": [
    "Ejemplos de [Daniel Moisset](https://github.com/dmoisset/patma), [video](https://www.youtube.com/watch?v=3I97ggCKasc&ab_channel=EuroPythonConference) contando un poco más.\n"
   ]
  },
  {
   "cell_type": "markdown",
   "id": "ab3ea9fa",
   "metadata": {},
   "source": [
    "Si quisiera encontrar los números entre 1 y 100 que son múltiplos de 3 y 5, solo de 3, solo de 5 o de ninguno, ¿cómo haríamos?"
   ]
  },
  {
   "cell_type": "code",
   "execution_count": null,
   "id": "0e3dedbb",
   "metadata": {},
   "outputs": [],
   "source": [
    "for i in range(1, 101):\n",
    "    if (i % 3 == 0 ) and (i % 5 == 0):\n",
    "        print(\"ehh sii\")\n",
    "    elif (i % 3 == 0 ):\n",
    "         print(\"ehh\")\n",
    "    elif (i % 5 == 0):\n",
    "         print(\"sii\")\n",
    "    else:\n",
    "        print(i)"
   ]
  },
  {
   "cell_type": "code",
   "execution_count": null,
   "id": "464ca8ae",
   "metadata": {},
   "outputs": [],
   "source": [
    "for i in range(1, 101):\n",
    "    match (i % 3 == 0 ), (i % 5 == 0):\n",
    "        case True, True: print(\"ehh sii\")\n",
    "        case True, _: print(\"ehh\")\n",
    "        case _, True: print(\"sii\")\n",
    "        case _: print(i)"
   ]
  },
  {
   "cell_type": "code",
   "execution_count": null,
   "id": "61eb0447",
   "metadata": {},
   "outputs": [],
   "source": [
    "points = [(0, 0), (0,5), (5,0), (5,5), ('f',8), ('f')]\n",
    "for point in points:\n",
    "    match point:\n",
    "        case (0, 0):\n",
    "            print(\"Origin\")\n",
    "        case (0, y):\n",
    "            print(f\"Y={y}\")\n",
    "        case (x, 0):\n",
    "            print(f\"X={x}\")\n",
    "        case (x, y):\n",
    "            print(f\"X={x}, Y={y}\")\n",
    "        case _:\n",
    "            raise ValueError(\"Not a point\")"
   ]
  },
  {
   "cell_type": "code",
   "execution_count": null,
   "id": "0b44551f",
   "metadata": {},
   "outputs": [],
   "source": []
  }
 ],
 "metadata": {
  "kernelspec": {
   "display_name": "Python 3 (ipykernel)",
   "language": "python",
   "name": "python3"
  },
  "language_info": {
   "codemirror_mode": {
    "name": "ipython",
    "version": 3
   },
   "file_extension": ".py",
   "mimetype": "text/x-python",
   "name": "python",
   "nbconvert_exporter": "python",
   "pygments_lexer": "ipython3",
   "version": "3.10.4"
  }
 },
 "nbformat": 4,
 "nbformat_minor": 5
}
