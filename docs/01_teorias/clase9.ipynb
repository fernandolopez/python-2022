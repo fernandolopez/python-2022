{
 "cells": [
  {
   "cell_type": "markdown",
   "id": "boring-yield",
   "metadata": {
    "slideshow": {
     "slide_type": "slide"
    }
   },
   "source": [
    "# Seminario de Lenguajes - Python\n",
    "## Cursaa 2022\n",
    "### Introducción al análisis de datos"
   ]
  },
  {
   "cell_type": "markdown",
   "id": "legislative-giant",
   "metadata": {
    "slideshow": {
     "slide_type": "slide"
    }
   },
   "source": [
    "# Ciencia de datos:\n",
    "\n",
    "<h2 style=\"text-align:center;\">En pocas palabras: se refiere al análisis de datos aplicando  técnicas de programación.</h3>\n",
    "<center>\n",
    "<img src=\"imagenes/analisis_de_datos.png\" alt=\"analisis de datos\" style=\"width:750px;\"/>\n",
    "</center>\n",
    "\n",
    "Sacado de [Ciencia de Datos para Gente Sociable](https://bitsandbricks.github.io/ciencia_de_datos_gente_sociable/index.html), aunque trabaja con lenguaje R la introducción es un buen punto de partida."
   ]
  },
  {
   "cell_type": "markdown",
   "id": "civic-mozambique",
   "metadata": {
    "slideshow": {
     "slide_type": "subslide"
    }
   },
   "source": [
    "# Análisis de datos\n",
    "\n",
    "- Algo muy básico hicimos cuando procesamos datasets en formato csv.\n",
    "- Ahora veremos una de las librerías más utilizadas en Python: [pandas](https://pandas.pydata.org/)\n",
    "- Vamos a graficar resultados con [matplotlib](https://matplotlib.org/)\n"
   ]
  },
  {
   "cell_type": "markdown",
   "id": "modified-domestic",
   "metadata": {
    "slideshow": {
     "slide_type": "fragment"
    }
   },
   "source": [
    "# pandas y matplotlib\n",
    "\n",
    "- Se instalan con pip.\n",
    "- Hay muchos ejemplos con Jupyter lab / Jupyter notebook.\n"
   ]
  },
  {
   "cell_type": "markdown",
   "id": "partial-vermont",
   "metadata": {
    "slideshow": {
     "slide_type": "slide"
    }
   },
   "source": [
    "# Recordemos este ejemplo \n",
    "\n"
   ]
  },
  {
   "cell_type": "code",
   "execution_count": null,
   "id": "aerial-chick",
   "metadata": {
    "slideshow": {
     "slide_type": "fragment"
    }
   },
   "outputs": [],
   "source": [
    "import csv\n",
    "import os\n",
    "\n",
    "archivo_netflix = os.path.join(os.getcwd(), \"archivos\", \"netflix_titles.csv\")\n",
    "data_set = open(archivo_netflix, encoding='utf-8')"
   ]
  },
  {
   "cell_type": "code",
   "execution_count": null,
   "id": "6d30b0e6",
   "metadata": {
    "slideshow": {
     "slide_type": "fragment"
    }
   },
   "outputs": [],
   "source": [
    "reader = csv.reader(data_set, delimiter=',')\n",
    "shows_ar = filter(lambda x:  x[5] == \"Argentina\" and x[1] == \"TV Show\", reader)\n",
    "\n",
    "for elem in shows_ar:\n",
    "    print(f\"{elem[2]:<40} {elem[3]}\")"
   ]
  },
  {
   "cell_type": "markdown",
   "id": "modular-green",
   "metadata": {
    "slideshow": {
     "slide_type": "subslide"
    }
   },
   "source": [
    "# Ahora vamos a usar pandas"
   ]
  },
  {
   "cell_type": "code",
   "execution_count": null,
   "id": "agricultural-valley",
   "metadata": {
    "slideshow": {
     "slide_type": "fragment"
    }
   },
   "outputs": [],
   "source": [
    "import pandas as pd\n",
    "\n",
    "data_set = pd.read_csv(archivo_netflix, encoding='utf-8')"
   ]
  },
  {
   "cell_type": "code",
   "execution_count": null,
   "id": "simplified-armenia",
   "metadata": {
    "slideshow": {
     "slide_type": "fragment"
    }
   },
   "outputs": [],
   "source": [
    "data_set"
   ]
  },
  {
   "cell_type": "markdown",
   "id": "aging-award",
   "metadata": {
    "slideshow": {
     "slide_type": "subslide"
    }
   },
   "source": [
    "# ¿De qué tipo de datos es data_set?"
   ]
  },
  {
   "cell_type": "code",
   "execution_count": null,
   "id": "annoying-impact",
   "metadata": {
    "slideshow": {
     "slide_type": "fragment"
    }
   },
   "outputs": [],
   "source": [
    "type(data_set)"
   ]
  },
  {
   "cell_type": "markdown",
   "id": "engaged-virtue",
   "metadata": {
    "slideshow": {
     "slide_type": "fragment"
    }
   },
   "source": [
    "- Un **dataframe** es una de las estructuras más importantes con las que trabaja pandas. \n",
    "- Es una **\"estructura tabular bidimensional, de tamaño mutable y potencialmente heterogénea\"**.\n",
    "\n",
    "- Un dataframe contiene:\n",
    "    - datos: organizados en filas y columnas\n",
    "    - labels: asociados a las filas y a las columnas\n",
    "- En nuestro ejemplo: ¿cuáles son los datos? ¿Y los labels?"
   ]
  },
  {
   "cell_type": "markdown",
   "id": "egyptian-actor",
   "metadata": {
    "slideshow": {
     "slide_type": "subslide"
    }
   },
   "source": [
    "# Algunas operaciones sencillas"
   ]
  },
  {
   "cell_type": "markdown",
   "id": "efficient-flexibility",
   "metadata": {
    "slideshow": {
     "slide_type": "fragment"
    }
   },
   "source": [
    "¿Cuántas filas?"
   ]
  },
  {
   "cell_type": "code",
   "execution_count": null,
   "id": "unlimited-model",
   "metadata": {
    "slideshow": {
     "slide_type": "fragment"
    }
   },
   "outputs": [],
   "source": [
    "len(data_set)"
   ]
  },
  {
   "cell_type": "markdown",
   "id": "textile-sponsorship",
   "metadata": {
    "slideshow": {
     "slide_type": "fragment"
    }
   },
   "source": [
    "¿Cuántas filas y columnas?"
   ]
  },
  {
   "cell_type": "code",
   "execution_count": null,
   "id": "excessive-marks",
   "metadata": {
    "slideshow": {
     "slide_type": "fragment"
    }
   },
   "outputs": [],
   "source": [
    "data_set.shape"
   ]
  },
  {
   "cell_type": "markdown",
   "id": "rural-software",
   "metadata": {
    "slideshow": {
     "slide_type": "subslide"
    }
   },
   "source": [
    "# ¿Cuáles son las columnas?"
   ]
  },
  {
   "cell_type": "code",
   "execution_count": null,
   "id": "invalid-thomas",
   "metadata": {
    "slideshow": {
     "slide_type": "fragment"
    }
   },
   "outputs": [],
   "source": [
    "data_set.columns"
   ]
  },
  {
   "cell_type": "markdown",
   "id": "removable-outline",
   "metadata": {
    "slideshow": {
     "slide_type": "subslide"
    }
   },
   "source": [
    "# Queremos saber los tipos de contenidos que hay en el data set de Netflix\n",
    "\n",
    "- Deberíamos filtrar por la columna **\"type\"**."
   ]
  },
  {
   "cell_type": "code",
   "execution_count": null,
   "id": "beneficial-gathering",
   "metadata": {
    "slideshow": {
     "slide_type": "fragment"
    }
   },
   "outputs": [],
   "source": [
    "data_set[\"type\"]\n",
    "#data_set.type"
   ]
  },
  {
   "cell_type": "markdown",
   "id": "forty-import",
   "metadata": {
    "slideshow": {
     "slide_type": "subslide"
    }
   },
   "source": [
    "# ¿Y si queremos que no aparezcan valores repetidos?"
   ]
  },
  {
   "cell_type": "code",
   "execution_count": null,
   "id": "mediterranean-belgium",
   "metadata": {
    "slideshow": {
     "slide_type": "fragment"
    }
   },
   "outputs": [],
   "source": [
    "data_set[\"type\"].unique()"
   ]
  },
  {
   "cell_type": "markdown",
   "id": "loaded-planning",
   "metadata": {
    "slideshow": {
     "slide_type": "subslide"
    }
   },
   "source": [
    "# Podemos profundizar un poquito más, y ver cuántos contenidos hay de cada tipo:"
   ]
  },
  {
   "cell_type": "code",
   "execution_count": null,
   "id": "latest-indonesia",
   "metadata": {
    "slideshow": {
     "slide_type": "fragment"
    }
   },
   "outputs": [],
   "source": [
    "data_set[\"type\"].value_counts()"
   ]
  },
  {
   "cell_type": "markdown",
   "id": "hawaiian-polymer",
   "metadata": {
    "slideshow": {
     "slide_type": "slide"
    }
   },
   "source": [
    "# ¿De qué tipo son las columnas?"
   ]
  },
  {
   "cell_type": "code",
   "execution_count": null,
   "id": "prepared-premiere",
   "metadata": {
    "slideshow": {
     "slide_type": "fragment"
    }
   },
   "outputs": [],
   "source": [
    "columna = data_set[\"type\"]"
   ]
  },
  {
   "cell_type": "code",
   "execution_count": null,
   "id": "regular-portfolio",
   "metadata": {
    "slideshow": {
     "slide_type": "fragment"
    }
   },
   "outputs": [],
   "source": [
    "type(columna)"
   ]
  },
  {
   "cell_type": "markdown",
   "id": "blind-mayor",
   "metadata": {
    "slideshow": {
     "slide_type": "subslide"
    }
   },
   "source": [
    "# Series\n",
    "\n",
    "- Es la otra estructura de datos básica  con las que trabaja pandas.\n",
    "- **Poseen un índice que se define implícitamente**. Este índice implícito indica la **posición del elemento en la Serie**."
   ]
  },
  {
   "cell_type": "code",
   "execution_count": null,
   "id": "palestinian-implement",
   "metadata": {
    "slideshow": {
     "slide_type": "fragment"
    }
   },
   "outputs": [],
   "source": [
    "print(columna[1])"
   ]
  },
  {
   "cell_type": "markdown",
   "id": "raising-stephen",
   "metadata": {
    "slideshow": {
     "slide_type": "fragment"
    }
   },
   "source": [
    "- También es posible definir un índice de otro tipo."
   ]
  },
  {
   "cell_type": "code",
   "execution_count": null,
   "id": "native-sucking",
   "metadata": {
    "slideshow": {
     "slide_type": "fragment"
    }
   },
   "outputs": [],
   "source": [
    "# Top 3 de TIOBE: https://www.tiobe.com/tiobe-index/\n",
    "top_3 = pd.Series(\n",
    "       [13.92, 12.71, 10.82],\n",
    "       index=[\"Python\", \"C\", \"Java\"]\n",
    "       )\n",
    "top_3"
   ]
  },
  {
   "cell_type": "code",
   "execution_count": null,
   "id": "ancient-seeker",
   "metadata": {
    "slideshow": {
     "slide_type": "fragment"
    }
   },
   "outputs": [],
   "source": [
    "top_3[\"Python\"]"
   ]
  },
  {
   "cell_type": "markdown",
   "id": "written-entry",
   "metadata": {
    "slideshow": {
     "slide_type": "slide"
    }
   },
   "source": [
    "# Otras formas de crear un DataFrame\n",
    "Fuente de los datos: https://es.wikipedia.org/wiki/Anexo:R%C3%A9cords_del_ATP_World_Tour"
   ]
  },
  {
   "cell_type": "code",
   "execution_count": null,
   "id": "viral-johnston",
   "metadata": {
    "slideshow": {
     "slide_type": "fragment"
    }
   },
   "outputs": [],
   "source": [
    "datos = {\n",
    "        'tenista': ['Novak Djokovic', 'Rafael Nadal', 'Roger Federer', 'Ivan Lendl', 'Pete Sampras', 'John McEnroe', 'Bjorn Borg'],\n",
    "        'pais': ['Serbia', 'España', 'Suiza', 'República Checa','Estados Unidos', 'Estados Unidos', 'Suecia'],\n",
    "        'gran_slam': [20, 21, 20, 8, 14, 7, 11],\n",
    "        'master_1000': [37, 36, 28, 22, 11, 19, 15],\n",
    "        'otros': [5, 1, 6, 5, 5, 3, 2]\n",
    "         }\n",
    "labels_filas = [\"H01\", \"H02\", \"H03\", \"H04\", \"H05\", \"H06\", \"H07\"]"
   ]
  },
  {
   "cell_type": "code",
   "execution_count": null,
   "id": "encouraging-teacher",
   "metadata": {
    "slideshow": {
     "slide_type": "fragment"
    }
   },
   "outputs": [],
   "source": [
    "df = pd.DataFrame(data=datos, index=labels_filas)"
   ]
  },
  {
   "cell_type": "code",
   "execution_count": null,
   "id": "future-speed",
   "metadata": {
    "slideshow": {
     "slide_type": "subslide"
    }
   },
   "outputs": [],
   "source": [
    "df"
   ]
  },
  {
   "cell_type": "code",
   "execution_count": null,
   "id": "computational-gibson",
   "metadata": {
    "slideshow": {
     "slide_type": "subslide"
    }
   },
   "outputs": [],
   "source": [
    "tenistas = df[\"tenista\"]\n",
    "tenistas"
   ]
  },
  {
   "cell_type": "markdown",
   "id": "informational-lincoln",
   "metadata": {
    "slideshow": {
     "slide_type": "fragment"
    }
   },
   "source": [
    "<img src=\"imagenes/basicos_pandas.png\" alt=\"analisis de datos\" style=\"width:750px;\"/>\n"
   ]
  },
  {
   "cell_type": "markdown",
   "id": "surprising-storage",
   "metadata": {
    "slideshow": {
     "slide_type": "subslide"
    }
   },
   "source": [
    "# Podemos acceder a una fila del dataframe"
   ]
  },
  {
   "cell_type": "code",
   "execution_count": null,
   "id": "fewer-aside",
   "metadata": {
    "slideshow": {
     "slide_type": "fragment"
    }
   },
   "outputs": [],
   "source": [
    "fila = df.loc[\"H03\"]\n",
    "fila"
   ]
  },
  {
   "cell_type": "markdown",
   "id": "tender-calibration",
   "metadata": {
    "slideshow": {
     "slide_type": "fragment"
    }
   },
   "source": [
    "¿De qué tipo es fila?"
   ]
  },
  {
   "cell_type": "code",
   "execution_count": null,
   "id": "brown-google",
   "metadata": {
    "slideshow": {
     "slide_type": "fragment"
    }
   },
   "outputs": [],
   "source": [
    "type(fila)"
   ]
  },
  {
   "cell_type": "markdown",
   "id": "toxic-representative",
   "metadata": {
    "slideshow": {
     "slide_type": "subslide"
    }
   },
   "source": [
    "<img src=\"imagenes/basicos_pandas1.png\" alt=\"analisis de datos\" style=\"width:750px;\"/>"
   ]
  },
  {
   "cell_type": "code",
   "execution_count": null,
   "id": "4e6bb840",
   "metadata": {
    "slideshow": {
     "slide_type": "fragment"
    }
   },
   "outputs": [],
   "source": [
    "print(fila[\"tenista\"])"
   ]
  },
  {
   "cell_type": "markdown",
   "id": "qualified-enforcement",
   "metadata": {
    "slideshow": {
     "slide_type": "subslide"
    }
   },
   "source": [
    "# Queremos ver  los datos de la  primera fila:"
   ]
  },
  {
   "cell_type": "code",
   "execution_count": null,
   "id": "furnished-enclosure",
   "metadata": {
    "slideshow": {
     "slide_type": "fragment"
    }
   },
   "outputs": [],
   "source": [
    "df.iloc[0]\n",
    "x = df.iloc[0]\n",
    "x[\"tenista\"]"
   ]
  },
  {
   "cell_type": "markdown",
   "id": "reflected-insider",
   "metadata": {
    "slideshow": {
     "slide_type": "subslide"
    }
   },
   "source": [
    "# O a un conjunto:"
   ]
  },
  {
   "cell_type": "code",
   "execution_count": null,
   "id": "effective-uganda",
   "metadata": {
    "slideshow": {
     "slide_type": "fragment"
    }
   },
   "outputs": [],
   "source": [
    "# Por filas \n",
    "#df.iloc[2:4]\n",
    "df.loc[\"H03\":\"H06\"]"
   ]
  },
  {
   "cell_type": "code",
   "execution_count": null,
   "id": "spiritual-reservation",
   "metadata": {
    "slideshow": {
     "slide_type": "fragment"
    }
   },
   "outputs": [],
   "source": [
    "# Por columnas\n",
    "df[[\"tenista\",\"master_1000\"]]"
   ]
  },
  {
   "cell_type": "markdown",
   "id": "exclusive-birthday",
   "metadata": {
    "slideshow": {
     "slide_type": "subslide"
    }
   },
   "source": [
    "# O a un dato específico:"
   ]
  },
  {
   "cell_type": "code",
   "execution_count": null,
   "id": "juvenile-somerset",
   "metadata": {
    "slideshow": {
     "slide_type": "fragment"
    }
   },
   "outputs": [],
   "source": [
    "el_mejor = df.at[\"H03\",\"tenista\"]\n",
    "el_mejor"
   ]
  },
  {
   "cell_type": "markdown",
   "id": "3d2eebba",
   "metadata": {
    "slideshow": {
     "slide_type": "subslide"
    }
   },
   "source": [
    "# Probar en casa..."
   ]
  },
  {
   "cell_type": "code",
   "execution_count": null,
   "id": "090e620c",
   "metadata": {
    "slideshow": {
     "slide_type": "fragment"
    }
   },
   "outputs": [],
   "source": [
    "# Por filas y columnas\n",
    "df.iloc[[0, 2],[2, 3]]\n",
    "#df.iloc[:,[2, 3]]\n",
    "#df.iloc[[x for x in range(0,len(df)) if x % 2 == 0], [0,1]]\n",
    "#df.iloc[:,[True, True, False, False, True]]\n",
    "#df.iloc[lambda x: x.index == \"H02\", [0,2]]"
   ]
  },
  {
   "cell_type": "markdown",
   "id": "959c1d6f",
   "metadata": {
    "slideshow": {
     "slide_type": "fragment"
    }
   },
   "source": [
    "- Más info en la [documentación oficial](https://pandas.pydata.org/docs/reference/api/pandas.DataFrame.iloc.html#pandas.DataFrame.iloc)"
   ]
  },
  {
   "cell_type": "markdown",
   "id": "structural-glory",
   "metadata": {
    "slideshow": {
     "slide_type": "subslide"
    }
   },
   "source": [
    "# Queremos saber qué tenistas ganaron más de 20 Gran Slam"
   ]
  },
  {
   "cell_type": "code",
   "execution_count": null,
   "id": "choice-conspiracy",
   "metadata": {
    "slideshow": {
     "slide_type": "fragment"
    }
   },
   "outputs": [],
   "source": [
    "df[df[\"gran_slam\"] >= 20]"
   ]
  },
  {
   "cell_type": "markdown",
   "id": "played-child",
   "metadata": {
    "slideshow": {
     "slide_type": "fragment"
    }
   },
   "source": [
    "## ¿Y si queremos sólo a  Roger? "
   ]
  },
  {
   "cell_type": "code",
   "execution_count": null,
   "id": "yellow-heritage",
   "metadata": {
    "slideshow": {
     "slide_type": "fragment"
    }
   },
   "outputs": [],
   "source": [
    "df[(df[\"gran_slam\"] >= 20) & (df[\"pais\"] == \"Suiza\")]"
   ]
  },
  {
   "cell_type": "markdown",
   "id": "manufactured-twins",
   "metadata": {
    "slideshow": {
     "slide_type": "slide"
    }
   },
   "source": [
    "# Retomemos el trabajo con nuestro dataset de Netflix\n",
    "\n",
    "- ¿Cómo obtenemos el resultado que buscábamos? \n",
    "    - \"Todos los TV Shows de Argentina\"    "
   ]
  },
  {
   "cell_type": "code",
   "execution_count": null,
   "id": "liberal-columbia",
   "metadata": {
    "slideshow": {
     "slide_type": "fragment"
    }
   },
   "outputs": [],
   "source": [
    "# Recordemos la estructura del dataset\n",
    "data_set.columns"
   ]
  },
  {
   "cell_type": "markdown",
   "id": "nuclear-treat",
   "metadata": {
    "slideshow": {
     "slide_type": "subslide"
    }
   },
   "source": [
    "# Empecemos por filtrar los programas catalogados como \"TV Show\""
   ]
  },
  {
   "cell_type": "code",
   "execution_count": null,
   "id": "important-holmes",
   "metadata": {
    "slideshow": {
     "slide_type": "fragment"
    }
   },
   "outputs": [],
   "source": [
    "tv_shows = data_set[data_set[\"type\"] == \"TV Show\"]\n",
    "tv_shows"
   ]
  },
  {
   "cell_type": "markdown",
   "id": "passive-principal",
   "metadata": {
    "slideshow": {
     "slide_type": "subslide"
    }
   },
   "source": [
    "# Ahora agregamos  la otra condición: que sean de Argentina"
   ]
  },
  {
   "cell_type": "code",
   "execution_count": null,
   "id": "prostate-language",
   "metadata": {
    "slideshow": {
     "slide_type": "fragment"
    }
   },
   "outputs": [],
   "source": [
    "tv_shows_ar = tv_shows[tv_shows[\"country\"] == \"Argentina\"]\n",
    "tv_shows_ar[\"title\"]"
   ]
  },
  {
   "cell_type": "markdown",
   "id": "active-tactics",
   "metadata": {
    "slideshow": {
     "slide_type": "subslide"
    }
   },
   "source": [
    "# O podemos hacerlo todo junto"
   ]
  },
  {
   "cell_type": "code",
   "execution_count": null,
   "id": "later-sleeping",
   "metadata": {
    "slideshow": {
     "slide_type": "fragment"
    }
   },
   "outputs": [],
   "source": [
    "tv_shows_ar = data_set[(data_set[\"type\"] == \"TV Show\") &  (data_set[\"country\"] == \"Argentina\")]\n",
    "tv_shows_ar[\"title\"]"
   ]
  },
  {
   "cell_type": "markdown",
   "id": "suffering-influence",
   "metadata": {
    "slideshow": {
     "slide_type": "subslide"
    }
   },
   "source": [
    "# Podemos guardar el dataframe en archivos"
   ]
  },
  {
   "cell_type": "code",
   "execution_count": null,
   "id": "circular-jones",
   "metadata": {
    "slideshow": {
     "slide_type": "fragment"
    }
   },
   "outputs": [],
   "source": [
    "# En formato csv\n",
    "tv_shows_ar.to_csv(\"ShowsAR.csv\")"
   ]
  },
  {
   "cell_type": "code",
   "execution_count": null,
   "id": "second-flight",
   "metadata": {
    "slideshow": {
     "slide_type": "fragment"
    }
   },
   "outputs": [],
   "source": [
    "# En formato json\n",
    "tv_shows_ar.to_json(\"ShowsAR.json\")"
   ]
  },
  {
   "cell_type": "markdown",
   "id": "laden-reunion",
   "metadata": {
    "slideshow": {
     "slide_type": "slide"
    }
   },
   "source": [
    "# Algunas cosas más interesantes\n",
    "\n",
    "- Queremos saber cuántos títulos hay por tipo y año:"
   ]
  },
  {
   "cell_type": "code",
   "execution_count": null,
   "id": "illegal-pavilion",
   "metadata": {
    "slideshow": {
     "slide_type": "fragment"
    }
   },
   "outputs": [],
   "source": [
    "data_set.groupby([\"type\", \"release_year\"])[\"title\"].count()"
   ]
  },
  {
   "cell_type": "markdown",
   "id": "8bf30c14",
   "metadata": {
    "slideshow": {
     "slide_type": "fragment"
    }
   },
   "source": [
    "O también: "
   ]
  },
  {
   "cell_type": "code",
   "execution_count": null,
   "id": "916fa854",
   "metadata": {
    "slideshow": {
     "slide_type": "fragment"
    }
   },
   "outputs": [],
   "source": [
    "data_set.groupby([\"type\", \"release_year\"]).size()"
   ]
  },
  {
   "cell_type": "markdown",
   "id": "bored-harrison",
   "metadata": {
    "slideshow": {
     "slide_type": "subslide"
    }
   },
   "source": [
    "# ¿Cuántos de tipo Movie?"
   ]
  },
  {
   "cell_type": "code",
   "execution_count": null,
   "id": "passive-expansion",
   "metadata": {
    "slideshow": {
     "slide_type": "fragment"
    }
   },
   "outputs": [],
   "source": [
    "grupos = data_set.groupby([\"type\", \"release_year\"]).size()\n",
    "len(grupos[\"Movie\"])"
   ]
  },
  {
   "cell_type": "markdown",
   "id": "solid-internet",
   "metadata": {
    "slideshow": {
     "slide_type": "subslide"
    }
   },
   "source": [
    "# Y si queremos saber los 10 años con más títulos en el dataset?"
   ]
  },
  {
   "cell_type": "markdown",
   "id": "prime-encoding",
   "metadata": {
    "slideshow": {
     "slide_type": "fragment"
    }
   },
   "source": [
    "## Primero vamos a agrupar por año:"
   ]
  },
  {
   "cell_type": "code",
   "execution_count": null,
   "id": "heard-diagnosis",
   "metadata": {
    "slideshow": {
     "slide_type": "fragment"
    }
   },
   "outputs": [],
   "source": [
    "cantidad_por_año = data_set.groupby([\"release_year\"]).size()"
   ]
  },
  {
   "cell_type": "code",
   "execution_count": null,
   "id": "pressing-mitchell",
   "metadata": {
    "slideshow": {
     "slide_type": "fragment"
    }
   },
   "outputs": [],
   "source": [
    "cantidad_por_año"
   ]
  },
  {
   "cell_type": "markdown",
   "id": "macro-giving",
   "metadata": {
    "slideshow": {
     "slide_type": "fragment"
    }
   },
   "source": [
    "¿Cómo obtengo la cantidad de títulos de 2021?"
   ]
  },
  {
   "cell_type": "code",
   "execution_count": null,
   "id": "norwegian-lotus",
   "metadata": {
    "slideshow": {
     "slide_type": "fragment"
    }
   },
   "outputs": [],
   "source": [
    "cantidad_por_año[2021]"
   ]
  },
  {
   "cell_type": "markdown",
   "id": "applied-battle",
   "metadata": {
    "slideshow": {
     "slide_type": "subslide"
    }
   },
   "source": [
    "# Y, ¿cómo podemos obtener los 10 años con más títulos publicados?"
   ]
  },
  {
   "cell_type": "code",
   "execution_count": null,
   "id": "beneficial-pressure",
   "metadata": {
    "slideshow": {
     "slide_type": "fragment"
    }
   },
   "outputs": [],
   "source": [
    "cantidad_por_año.sort_values(ascending=False).head(10)"
   ]
  },
  {
   "cell_type": "code",
   "execution_count": null,
   "id": "mighty-variety",
   "metadata": {
    "slideshow": {
     "slide_type": "fragment"
    }
   },
   "outputs": [],
   "source": [
    "cantidad_por_año.sort_values().tail(10)"
   ]
  },
  {
   "cell_type": "markdown",
   "id": "compound-baghdad",
   "metadata": {
    "slideshow": {
     "slide_type": "slide"
    }
   },
   "source": [
    "# Y ahora graficamos"
   ]
  },
  {
   "cell_type": "code",
   "execution_count": null,
   "id": "graduate-doctor",
   "metadata": {
    "slideshow": {
     "slide_type": "fragment"
    }
   },
   "outputs": [],
   "source": [
    "top10 = cantidad_por_año.sort_values(ascending=False).head(10)\n",
    "top10"
   ]
  },
  {
   "cell_type": "code",
   "execution_count": null,
   "id": "breathing-scott",
   "metadata": {
    "slideshow": {
     "slide_type": "subslide"
    }
   },
   "outputs": [],
   "source": [
    "top10.plot(kind=\"bar\")"
   ]
  },
  {
   "cell_type": "markdown",
   "id": "54d6f942",
   "metadata": {
    "slideshow": {
     "slide_type": "subslide"
    }
   },
   "source": [
    "# Usamos matplotlib"
   ]
  },
  {
   "cell_type": "code",
   "execution_count": null,
   "id": "centered-cancer",
   "metadata": {
    "slideshow": {
     "slide_type": "fragment"
    }
   },
   "outputs": [],
   "source": [
    "from matplotlib import pyplot as plt\n",
    "%matplotlib inline"
   ]
  },
  {
   "cell_type": "markdown",
   "id": "practical-bookmark",
   "metadata": {
    "slideshow": {
     "slide_type": "subslide"
    }
   },
   "source": [
    "# Un poco más detallado"
   ]
  },
  {
   "cell_type": "code",
   "execution_count": null,
   "id": "extreme-concern",
   "metadata": {
    "slideshow": {
     "slide_type": "fragment"
    }
   },
   "outputs": [],
   "source": [
    "titulos_x_tipo = data_set.groupby([\"type\"]).size()\n",
    "#titulos_x_tipo"
   ]
  },
  {
   "cell_type": "code",
   "execution_count": null,
   "id": "dynamic-frontier",
   "metadata": {},
   "outputs": [],
   "source": [
    "etiquetas = [\"Movies\", \"TV Shows\"]\n",
    "cantidad_peliculas = titulos_x_tipo[\"Movie\"]\n",
    "cantidad_shows = titulos_x_tipo[\"TV Show\"]\n",
    "\n",
    "data_dibujo = [cantidad_peliculas, cantidad_shows]\n",
    "explode = (0.1, 0)\n",
    "\n",
    "plt.pie(data_dibujo, explode=explode, labels=etiquetas, autopct='%1.2f%%',\n",
    "        shadow=True, startangle=120, labeldistance= 1.2)\n",
    "plt.axis('equal') \n",
    "plt.legend(etiquetas)\n",
    "\n",
    "plt.title(\"Cantidad de contenidos por año\")\n",
    "plt.show()"
   ]
  },
  {
   "cell_type": "markdown",
   "id": "rising-wealth",
   "metadata": {
    "slideshow": {
     "slide_type": "subslide"
    }
   },
   "source": [
    "# ¿Cómo podemos guardar el gráfico en un png?"
   ]
  },
  {
   "cell_type": "code",
   "execution_count": null,
   "id": "pacific-literature",
   "metadata": {
    "slideshow": {
     "slide_type": "fragment"
    }
   },
   "outputs": [],
   "source": [
    "plt.savefig('grafico.png', format=\"png\")"
   ]
  },
  {
   "cell_type": "markdown",
   "id": "identified-treat",
   "metadata": {
    "slideshow": {
     "slide_type": "fragment"
    }
   },
   "source": [
    "- Revisemos: ¿se grabó bien?"
   ]
  },
  {
   "cell_type": "code",
   "execution_count": null,
   "id": "thirty-lindsay",
   "metadata": {},
   "outputs": [],
   "source": [
    "plt.pie(data_dibujo, explode=explode, labels=etiquetas, autopct='%1.1f%%',\n",
    "        shadow=True, startangle=90, labeldistance= 1.1)\n",
    "plt.axis('equal') \n",
    "plt.legend(etiquetas)\n",
    "\n",
    "plt.title(\"Cantidad de contenidos por año\")\n",
    "plt.savefig('grafico.png', format=\"png\")\n",
    "\n",
    "plt.show()"
   ]
  },
  {
   "cell_type": "markdown",
   "id": "subtle-pattern",
   "metadata": {
    "slideshow": {
     "slide_type": "slide"
    }
   },
   "source": [
    "# Resumimos hasta acá"
   ]
  },
  {
   "cell_type": "markdown",
   "id": "fewer-madonna",
   "metadata": {
    "slideshow": {
     "slide_type": "fragment"
    }
   },
   "source": [
    "- pandas me permite acceder y procesar datasets.\n",
    "- Las dos estructuras más importantes: Series y DataFrame.\n",
    "- Si bien podemos realizar algunos gráficos con pandas, matplotlib nos permite visualizar gráficos más complejos."
   ]
  },
  {
   "cell_type": "markdown",
   "id": "fancy-startup",
   "metadata": {
    "slideshow": {
     "slide_type": "slide"
    }
   },
   "source": [
    "# Podemos obtener el dataframe desde tablas de HTML\n",
    "\n",
    "Vamos a analizar los mundiales de futbol. "
   ]
  },
  {
   "cell_type": "code",
   "execution_count": null,
   "id": "crazy-apparel",
   "metadata": {
    "slideshow": {
     "slide_type": "fragment"
    }
   },
   "outputs": [],
   "source": [
    "url = \"https://es.wikipedia.org/wiki/Copa_Mundial_de_F%C3%BAtbol\"\n",
    "result = pd.read_html(url)"
   ]
  },
  {
   "cell_type": "markdown",
   "id": "619b1eaa",
   "metadata": {
    "slideshow": {
     "slide_type": "fragment"
    }
   },
   "source": [
    "La función **read_html** lee las tablas HTML  y retorna una list de dataframes."
   ]
  },
  {
   "cell_type": "markdown",
   "id": "perceived-pulse",
   "metadata": {
    "slideshow": {
     "slide_type": "fragment"
    }
   },
   "source": [
    "Para leer  documentos HTML hay varias opciones: \n",
    "- Con pandas, con la función read_html,\n",
    "- También hay otras librerías tales como [BeautifulSoup](https://www.crummy.com/software/BeautifulSoup/)\n",
    "\n",
    "En todos los casos, se requiere instalar un parser HTML. En nuestro caso estoy usando [lxml](https://lxml.de/) que se instala con pip."
   ]
  },
  {
   "cell_type": "code",
   "execution_count": null,
   "id": "sustained-source",
   "metadata": {
    "slideshow": {
     "slide_type": "subslide"
    }
   },
   "outputs": [],
   "source": [
    "type(result)"
   ]
  },
  {
   "cell_type": "markdown",
   "id": "3b2c5aef",
   "metadata": {
    "slideshow": {
     "slide_type": "fragment"
    }
   },
   "source": [
    "Podemos explorar los dataframes leidos.\n",
    "La tabla general con la información de los torneos se encuentra en **result[1]**.\n",
    "\n",
    "### Observemos cómo está compuesto el dataframe. ¿Cuáles son los nombres de las columnas? ¿Todas tienen valores válidos?"
   ]
  },
  {
   "cell_type": "code",
   "execution_count": null,
   "id": "exceptional-success",
   "metadata": {
    "slideshow": {
     "slide_type": "fragment"
    }
   },
   "outputs": [],
   "source": [
    "result[1]"
   ]
  },
  {
   "cell_type": "markdown",
   "id": "ready-newman",
   "metadata": {
    "slideshow": {
     "slide_type": "subslide"
    }
   },
   "source": [
    "# ¿Cómo sabemos cuántas tablas se leyeron?"
   ]
  },
  {
   "cell_type": "code",
   "execution_count": null,
   "id": "polished-separation",
   "metadata": {
    "slideshow": {
     "slide_type": "fragment"
    }
   },
   "outputs": [],
   "source": [
    "len(result)"
   ]
  },
  {
   "cell_type": "markdown",
   "id": "defensive-acceptance",
   "metadata": {
    "slideshow": {
     "slide_type": "subslide"
    }
   },
   "source": [
    "# Buscamos la tabla con el resumen de las mundiales"
   ]
  },
  {
   "cell_type": "code",
   "execution_count": null,
   "id": "foster-sharp",
   "metadata": {
    "slideshow": {
     "slide_type": "fragment"
    }
   },
   "outputs": [],
   "source": [
    "ediciones = result[1]\n",
    "ediciones.columns"
   ]
  },
  {
   "cell_type": "markdown",
   "id": "f910f2fb",
   "metadata": {
    "slideshow": {
     "slide_type": "subslide"
    }
   },
   "source": [
    "# Una primera depuración\n",
    "\n",
    "- Si analizamos los datos, vemos que hay columnas con valor **NaN**. \n",
    "- Con este valor indicamos que el valor no está o es nulo.\n",
    "- Vamos a eliminar estas columnas: ¿cuáles son las columnas que deberíamos eliminar?"
   ]
  },
  {
   "cell_type": "code",
   "execution_count": null,
   "id": "adverse-embassy",
   "metadata": {
    "slideshow": {
     "slide_type": "fragment"
    }
   },
   "outputs": [],
   "source": [
    "ediciones = ediciones.drop([2, 6], axis='columns')"
   ]
  },
  {
   "cell_type": "code",
   "execution_count": null,
   "id": "a0d2ff79",
   "metadata": {
    "slideshow": {
     "slide_type": "fragment"
    }
   },
   "outputs": [],
   "source": [
    "ediciones"
   ]
  },
  {
   "cell_type": "markdown",
   "id": "e0e24dcf",
   "metadata": {
    "slideshow": {
     "slide_type": "subslide"
    }
   },
   "source": [
    "# Obervemos los nombres de las columnas\n",
    "\n",
    "¿dónde se encuentran realmente los nombres de las columnas?"
   ]
  },
  {
   "cell_type": "code",
   "execution_count": null,
   "id": "61834789",
   "metadata": {
    "slideshow": {
     "slide_type": "fragment"
    }
   },
   "outputs": [],
   "source": [
    "ediciones.iloc[0]"
   ]
  },
  {
   "cell_type": "markdown",
   "id": "5b591596",
   "metadata": {
    "slideshow": {
     "slide_type": "subslide"
    }
   },
   "source": [
    "# Renombremos entonces las columnas"
   ]
  },
  {
   "cell_type": "code",
   "execution_count": null,
   "id": "e74dc537",
   "metadata": {
    "slideshow": {
     "slide_type": "fragment"
    }
   },
   "outputs": [],
   "source": [
    "ediciones.columns = ediciones.iloc[0]"
   ]
  },
  {
   "cell_type": "code",
   "execution_count": null,
   "id": "c42f0581",
   "metadata": {
    "slideshow": {
     "slide_type": "fragment"
    }
   },
   "outputs": [],
   "source": [
    "ediciones"
   ]
  },
  {
   "cell_type": "markdown",
   "id": "5491dc4f",
   "metadata": {
    "slideshow": {
     "slide_type": "subslide"
    }
   },
   "source": [
    "# Ahora queremos eliminar esa primera fila"
   ]
  },
  {
   "cell_type": "code",
   "execution_count": null,
   "id": "0db87338",
   "metadata": {
    "slideshow": {
     "slide_type": "fragment"
    }
   },
   "outputs": [],
   "source": [
    "ediciones = ediciones[1:]"
   ]
  },
  {
   "cell_type": "code",
   "execution_count": null,
   "id": "e691cfa0",
   "metadata": {
    "slideshow": {
     "slide_type": "fragment"
    }
   },
   "outputs": [],
   "source": [
    "ediciones"
   ]
  },
  {
   "cell_type": "markdown",
   "id": "4cb326b1",
   "metadata": {
    "slideshow": {
     "slide_type": "subslide"
    }
   },
   "source": [
    "#  Obervemos nuevamente los datos\n",
    "\n",
    "Hay algunas filas que deberíamos eliminar también."
   ]
  },
  {
   "cell_type": "code",
   "execution_count": null,
   "id": "7e25c21f",
   "metadata": {
    "slideshow": {
     "slide_type": "fragment"
    }
   },
   "outputs": [],
   "source": [
    "ediciones = ediciones.drop([4, 5, 24, 25], axis=\"rows\")\n",
    "ediciones"
   ]
  },
  {
   "cell_type": "markdown",
   "id": "490766f8",
   "metadata": {
    "slideshow": {
     "slide_type": "subslide"
    }
   },
   "source": [
    "# Ahora si, vamos a realizar algunas consultas"
   ]
  },
  {
   "cell_type": "markdown",
   "id": "1aea5b7f",
   "metadata": {
    "slideshow": {
     "slide_type": "subslide"
    }
   },
   "source": [
    "## Desafío 1: países organizadores que salieron campeones"
   ]
  },
  {
   "cell_type": "code",
   "execution_count": null,
   "id": "5d1173fc",
   "metadata": {
    "slideshow": {
     "slide_type": "fragment"
    }
   },
   "outputs": [],
   "source": [
    "campeones_organizadores = ediciones[ediciones[\"Sede\"] == ediciones[\"Campeón\"]]\n",
    "campeones_organizadores"
   ]
  },
  {
   "cell_type": "markdown",
   "id": "da1b958c",
   "metadata": {
    "slideshow": {
     "slide_type": "subslide"
    }
   },
   "source": [
    "## Desafío 2: los 5 países que más veces salieron campeones"
   ]
  },
  {
   "cell_type": "code",
   "execution_count": null,
   "id": "3e97f5b5",
   "metadata": {
    "slideshow": {
     "slide_type": "fragment"
    }
   },
   "outputs": [],
   "source": [
    "ediciones.groupby(\"Campeón\").size().sort_values(ascending=False).head(5)"
   ]
  },
  {
   "cell_type": "markdown",
   "id": "d157ebe1",
   "metadata": {
    "slideshow": {
     "slide_type": "subslide"
    }
   },
   "source": [
    "# Tarea para el hogar...\n",
    "\n",
    "## Desafío 3: ¿cómo puedo procesar la tabla de goleadores? Quiero saber qué goleadores hicieron más de 5 goles."
   ]
  },
  {
   "cell_type": "markdown",
   "id": "living-adjustment",
   "metadata": {
    "slideshow": {
     "slide_type": "slide"
    }
   },
   "source": [
    "# Seguimos el próximo martes"
   ]
  }
 ],
 "metadata": {
  "celltoolbar": "Slideshow",
  "kernelspec": {
   "display_name": "Python 3 (ipykernel)",
   "language": "python",
   "name": "python3"
  },
  "language_info": {
   "codemirror_mode": {
    "name": "ipython",
    "version": 3
   },
   "file_extension": ".py",
   "mimetype": "text/x-python",
   "name": "python",
   "nbconvert_exporter": "python",
   "pygments_lexer": "ipython3",
   "version": "3.10.2"
  }
 },
 "nbformat": 4,
 "nbformat_minor": 5
}
