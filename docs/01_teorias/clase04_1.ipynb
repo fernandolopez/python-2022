{
 "cells": [
  {
   "cell_type": "markdown",
   "id": "younger-ready",
   "metadata": {
    "slideshow": {
     "slide_type": "slide"
    }
   },
   "source": [
    "### Seminario de Lenguajes - Python\n",
    "## Cursada 2022\n",
    "### Archivos (cont.)"
   ]
  },
  {
   "cell_type": "markdown",
   "id": "pursuant-ordinary",
   "metadata": {
    "slideshow": {
     "slide_type": "slide"
    }
   },
   "source": [
    "\n",
    "# Pensemos en las siguientes situaciones:\n",
    "\n",
    "\n",
    "¿Qué hacemos si queremos: \n",
    "\n",
    "- agregar nuevos datos a los datos ya existentes?;\n",
    "- modificar el puntaje de un jugador específico en un juego?;\n",
    "- agregar una nueva pregunta la banco de preguntas del juego de repaso?;\n",
    "- incrementar los Python Plus de un estudiante determinado?\n",
    "\n",
    "**¿Qué tienen todas estas situaciones en común?**\n"
   ]
  },
  {
   "cell_type": "markdown",
   "id": "medical-brook",
   "metadata": {
    "slideshow": {
     "slide_type": "subslide"
    }
   },
   "source": [
    "# Acceso aleatorio\n",
    "\n",
    "<img src=\"imagenes/seek.png\" alt=\"acceso aleatorio\" style=\"width:850px;\"/>\n",
    "\n",
    "- Si el valor **desde_donde** no está, se asume 0.\n",
    "- Si el archivo es de texto, solamente se considera desplazar desde el comienzo del archivo, es decir el valor **desde_donde** es 0."
   ]
  },
  {
   "cell_type": "markdown",
   "id": "established-hostel",
   "metadata": {
    "slideshow": {
     "slide_type": "subslide"
    }
   },
   "source": [
    "# Veamos el siguiente ejemplo"
   ]
  },
  {
   "cell_type": "code",
   "execution_count": 1,
   "id": "approximate-firmware",
   "metadata": {
    "slideshow": {
     "slide_type": "fragment"
    }
   },
   "outputs": [
    {
     "name": "stdout",
     "output_type": "stream",
     "text": [
      "ivin' for today.\n",
      "\n",
      "\n",
      "******************************\n",
      "Imagine there's no heaven\n",
      "It's easy if you try\n",
      "No hell below us\n",
      "Above us, only sky\n",
      "Imagine all the people\n",
      "Livin' for today.\n",
      "\n",
      "\n"
     ]
    }
   ],
   "source": [
    "archivo = open(\"ejemplos/clase4/imagine.txt\",\"rb\")\n",
    "\n",
    "archivo.seek(-18, 2)      #Esto da error si el archivo se abre en modo\"r\"\n",
    "print(archivo.read().decode('UTF-8'))\n",
    "print(\"*\"*30)\n",
    "archivo.seek(0, 0) \n",
    "print(archivo.read().decode('UTF-8'))\n",
    "archivo.close()"
   ]
  },
  {
   "cell_type": "code",
   "execution_count": 2,
   "id": "urban-camping",
   "metadata": {
    "slideshow": {
     "slide_type": "subslide"
    }
   },
   "outputs": [],
   "source": [
    "archivo = open(\"ejemplos/clase4/imagine.txt\",\"rb+\")\n",
    "\n",
    "archivo.seek(34, 0)      #Esto da error si el archivo se abre en modo\"r\"\n",
    "archivo.write(bytes(\"xXXXXXXXXXXXXXXXX\", 'UTF-8'))\n",
    "archivo.close()\n"
   ]
  },
  {
   "cell_type": "markdown",
   "id": "trained-intellectual",
   "metadata": {
    "slideshow": {
     "slide_type": "fragment"
    }
   },
   "source": [
    "- ¿Por qué convierto a bytes?"
   ]
  },
  {
   "cell_type": "code",
   "execution_count": 4,
   "id": "olympic-summary",
   "metadata": {
    "slideshow": {
     "slide_type": "fragment"
    }
   },
   "outputs": [
    {
     "name": "stdout",
     "output_type": "stream",
     "text": [
      "Imagine there's no heaven\n",
      "It's easxXXXXXXXXXXXXXXXXell below us\n",
      "Above us, only sky\n",
      "Imagine all the people\n",
      "Livin' for today.\n",
      "\n",
      "\n"
     ]
    }
   ],
   "source": [
    "archivo = open(\"ejemplos/clase4/imagine.txt\",\"rb\")\n",
    "print(archivo.read().decode('UTF-8'))\n",
    "archivo.close()"
   ]
  },
  {
   "cell_type": "markdown",
   "id": "still-pocket",
   "metadata": {
    "slideshow": {
     "slide_type": "fragment"
    }
   },
   "source": [
    "- Probemos esto mismo abriendo trabajando con archivos de texto.\n",
    "- ¿archi.read(4).decode('UTF-8')?"
   ]
  },
  {
   "cell_type": "markdown",
   "id": "colored-student",
   "metadata": {
    "slideshow": {
     "slide_type": "subslide"
    }
   },
   "source": [
    "# ¿Dónde estamos?\n",
    "\n",
    "- **tell()**: retorna la posición actual."
   ]
  },
  {
   "cell_type": "code",
   "execution_count": 5,
   "id": "previous-supervision",
   "metadata": {
    "slideshow": {
     "slide_type": "subslide"
    }
   },
   "outputs": [
    {
     "name": "stdout",
     "output_type": "stream",
     "text": [
      "125\n"
     ]
    }
   ],
   "source": [
    "archivo = open(\"ejemplos/clase4/imagine.txt\",\"rb\")\n",
    "archivo.seek(0,2)\n",
    "print(archivo.tell())\n",
    "archivo.close()"
   ]
  },
  {
   "cell_type": "markdown",
   "id": "checked-prince",
   "metadata": {
    "slideshow": {
     "slide_type": "slide"
    }
   },
   "source": [
    "# Entrada y salida estándar\n",
    "\n",
    "* Tres archivos estándares: **stdin**, **stdout**, **stderr**.\n",
    "* Usados por el intérprete como entrada, salida y error estándar.\n",
    "* Se los accede a través del módulo **sys**."
   ]
  },
  {
   "cell_type": "code",
   "execution_count": 108,
   "id": "senior-craps",
   "metadata": {
    "slideshow": {
     "slide_type": "fragment"
    }
   },
   "outputs": [
    {
     "name": "stdout",
     "output_type": "stream",
     "text": [
      "Hola \n",
      "\n",
      " que tal"
     ]
    }
   ],
   "source": [
    "import sys\n",
    "\n",
    "sys.stdout.write(\"Hola \\n\\n que tal\")"
   ]
  },
  {
   "cell_type": "code",
   "execution_count": null,
   "id": "assigned-helen",
   "metadata": {
    "slideshow": {
     "slide_type": "fragment"
    }
   },
   "outputs": [],
   "source": [
    "nombre = input()"
   ]
  },
  {
   "cell_type": "code",
   "execution_count": null,
   "id": "equipped-share",
   "metadata": {
    "slideshow": {
     "slide_type": "fragment"
    }
   },
   "outputs": [],
   "source": [
    "import sys\n",
    "\n",
    "nombre = sys.stdin.readline()\n",
    "nombre"
   ]
  },
  {
   "cell_type": "markdown",
   "id": "simplified-internet",
   "metadata": {
    "slideshow": {
     "slide_type": "slide"
    }
   },
   "source": [
    "# Retomamos los módulos estándares\n",
    "\n",
    "## Módulo OS\n",
    "\n",
    "- Incluye funciones para:\n",
    "\n",
    "\t* Procesamiento de archivos.\n",
    "\t* Directorios.\n",
    "\t* Permisos.\n",
    "-  Más info: http://docs.python.org/library/os.html#module-os"
   ]
  },
  {
   "cell_type": "code",
   "execution_count": 110,
   "id": "standing-cookie",
   "metadata": {
    "slideshow": {
     "slide_type": "fragment"
    }
   },
   "outputs": [],
   "source": [
    "import os\n",
    "#os.rename('ejemplos/clase5/imagine.txt','ejemplos/clase5/COPIA.TXT')\n",
    "os.remove('bandas.dat')"
   ]
  },
  {
   "cell_type": "markdown",
   "id": "secondary-country",
   "metadata": {
    "slideshow": {
     "slide_type": "subslide"
    }
   },
   "source": [
    "Veamos estos otros ejemplos"
   ]
  },
  {
   "cell_type": "code",
   "execution_count": 111,
   "id": "dying-soccer",
   "metadata": {
    "slideshow": {
     "slide_type": "fragment"
    }
   },
   "outputs": [
    {
     "name": "stdout",
     "output_type": "stream",
     "text": [
      "['listado', 'postitulo', 'Python', 'libro-python', 'www', 'proyecto2014', 'test', 'papers', 'descarga.jpeg']\n",
      "/\n"
     ]
    }
   ],
   "source": [
    "lista = os.listdir(\"/home/claudia/git/\")\n",
    "print(lista)\n",
    "print(os.sep)"
   ]
  },
  {
   "cell_type": "code",
   "execution_count": 112,
   "id": "sustainable-northeast",
   "metadata": {
    "slideshow": {
     "slide_type": "fragment"
    }
   },
   "outputs": [
    {
     "name": "stdout",
     "output_type": "stream",
     "text": [
      "True\n"
     ]
    }
   ],
   "source": [
    "import os\n",
    "print(os.access(\"/home/claudia/git/\", os.W_OK))"
   ]
  },
  {
   "cell_type": "markdown",
   "id": "spectacular-kitty",
   "metadata": {
    "slideshow": {
     "slide_type": "subslide"
    }
   },
   "source": [
    "# Módulo os.path\n",
    "\n",
    "- Provee algunas funciones útiles: exists(), isdir(), isfile()"
   ]
  },
  {
   "cell_type": "code",
   "execution_count": 114,
   "id": "threatened-white",
   "metadata": {
    "slideshow": {
     "slide_type": "fragment"
    }
   },
   "outputs": [
    {
     "name": "stdout",
     "output_type": "stream",
     "text": [
      "True\n",
      "True\n"
     ]
    }
   ],
   "source": [
    "import os.path\n",
    "\n",
    "print(os.path.exists(\"/home/claudia/git/\"))\n",
    "print(os.path.isdir(\"/home/claudia/git/\"))"
   ]
  },
  {
   "cell_type": "markdown",
   "id": "handy-vacation",
   "metadata": {
    "slideshow": {
     "slide_type": "slide"
    }
   },
   "source": [
    "<img src=\"imagenes/portada_video.png\" alt=\"nos vemos el martes\" style=\"width:1050px;\"/>"
   ]
  }
 ],
 "metadata": {
  "celltoolbar": "Slideshow",
  "kernelspec": {
   "display_name": "Python 3 (ipykernel)",
   "language": "python",
   "name": "python3"
  },
  "language_info": {
   "codemirror_mode": {
    "name": "ipython",
    "version": 3
   },
   "file_extension": ".py",
   "mimetype": "text/x-python",
   "name": "python",
   "nbconvert_exporter": "python",
   "pygments_lexer": "ipython3",
   "version": "3.10.2"
  }
 },
 "nbformat": 4,
 "nbformat_minor": 5
}
