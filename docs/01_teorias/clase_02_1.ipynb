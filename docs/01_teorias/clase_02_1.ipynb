{
 "cells": [
  {
   "cell_type": "markdown",
   "id": "mobile-stanford",
   "metadata": {
    "slideshow": {
     "slide_type": "slide"
    }
   },
   "source": [
    "### Seminario de Lenguajes - Python\n",
    "## Cursada 2022\n",
    "### Parámetros de funciones - conjuntos en Python"
   ]
  },
  {
   "cell_type": "markdown",
   "id": "incident-easter",
   "metadata": {
    "slideshow": {
     "slide_type": "slide"
    }
   },
   "source": [
    "# Hagamos un repaso de la clase del martes\n",
    "\n",
    "- En la clase estuvimos trabajando con este desafío: **necesitamos procesar las notas de los estudiantes de este curso**. Queremos saber:\n",
    "    - cuál es el promedio de las notas,\n",
    "    - qué estudiantes están por debajo del promedio.\n",
    "- Y plantemos este pseudocódigo para  la solución:\n",
    "```\n",
    "Ingresar las notas\n",
    "Calcular el promedio\n",
    "Mostar quiénes tienen notas menores al promedio\n",
    "```"
   ]
  },
  {
   "cell_type": "markdown",
   "id": "white-member",
   "metadata": {
    "slideshow": {
     "slide_type": "subslide"
    }
   },
   "source": [
    "- Implementamos  el primer proceso: "
   ]
  },
  {
   "cell_type": "code",
   "execution_count": 1,
   "id": "chemical-monte",
   "metadata": {
    "slideshow": {
     "slide_type": "fragment"
    }
   },
   "outputs": [
    {
     "name": "stdout",
     "output_type": "stream",
     "text": [
      "Ingresa un nombre (<FIN> para finalizar)Janis\n",
      "Ingresa la nota de Janis10\n",
      "Ingresa un nombre (<FIN> para finalizar)Bob\n",
      "Ingresa la nota de Bob7\n",
      "Ingresa un nombre (<FIN> para finalizar)FIN\n"
     ]
    },
    {
     "data": {
      "text/plain": [
       "{'Janis': 10, 'Bob': 7}"
      ]
     },
     "execution_count": 1,
     "metadata": {},
     "output_type": "execute_result"
    }
   ],
   "source": [
    "def ingreso_notas():\n",
    "    \"\"\" Esta función retorna un diccionario con los nombres y notas de estudiantes \"\"\"\n",
    "    \n",
    "    nombre = input(\"Ingresa un nombre (<FIN> para finalizar)\")\n",
    "    dicci = {}\n",
    "    while nombre != \"FIN\":\n",
    "        nota = int(input(f\"Ingresa la nota de {nombre}\"))\n",
    "        dicci[nombre] = nota\n",
    "        nombre = input(\"Ingresa un nombre (<FIN> para finalizar)\")\n",
    "    return dicci\n",
    "    \n",
    "notas_de_estudiantes = ingreso_notas()\n",
    "notas_de_estudiantes"
   ]
  },
  {
   "cell_type": "markdown",
   "id": "reflected-amateur",
   "metadata": {
    "slideshow": {
     "slide_type": "subslide"
    }
   },
   "source": [
    "# Ahora observemos este código que implementa el segundo proceso:"
   ]
  },
  {
   "cell_type": "code",
   "execution_count": 2,
   "id": "designed-vessel",
   "metadata": {
    "slideshow": {
     "slide_type": "fragment"
    }
   },
   "outputs": [
    {
     "data": {
      "text/plain": [
       "8.5"
      ]
     },
     "execution_count": 2,
     "metadata": {},
     "output_type": "execute_result"
    }
   ],
   "source": [
    "def calculo_promedio(notas):\n",
    "    \"\"\" Esta función calcula el promedio de las notas recibida por parámetro.\n",
    "       \n",
    "    notas: es un diccionario de forma nombre_estudiante: nota\n",
    "    \"\"\"\n",
    "    suma = 0\n",
    "    for estu in notas:\n",
    "        suma += notas[estu]\n",
    "    promedio = 0 if len(notas)==0 else suma/len(notas)    \n",
    "    return promedio\n",
    "\n",
    "calculo_promedio(notas_de_estudiantes)"
   ]
  },
  {
   "cell_type": "markdown",
   "id": "limiting-dollar",
   "metadata": {
    "slideshow": {
     "slide_type": "fragment"
    }
   },
   "source": [
    "- A diferencia de la función anterior, ésta tiene un parámetro.\n",
    "- ¿Hay distintas formas de pasar parámetros en Python? ¿Cómo podemos probar esto?"
   ]
  },
  {
   "cell_type": "markdown",
   "id": "finite-recommendation",
   "metadata": {
    "slideshow": {
     "slide_type": "subslide"
    }
   },
   "source": [
    "# Parámetros en Python\n",
    "\n",
    "- Veamos un ejemplo más sencillo:"
   ]
  },
  {
   "cell_type": "code",
   "execution_count": 3,
   "id": "antique-exercise",
   "metadata": {
    "slideshow": {
     "slide_type": "fragment"
    }
   },
   "outputs": [
    {
     "name": "stdout",
     "output_type": "stream",
     "text": [
      "2\n"
     ]
    }
   ],
   "source": [
    "def modifico_parametro(x):\n",
    "    x = 10\n",
    "\n",
    "a = 2\n",
    "modifico_parametro(a)\n",
    "print(a)"
   ]
  },
  {
   "cell_type": "markdown",
   "id": "medium-avatar",
   "metadata": {
    "slideshow": {
     "slide_type": "subslide"
    }
   },
   "source": [
    "### Y ahora  analicemos este otro ejemplo:"
   ]
  },
  {
   "cell_type": "code",
   "execution_count": 4,
   "id": "sublime-implement",
   "metadata": {
    "slideshow": {
     "slide_type": "fragment"
    }
   },
   "outputs": [
    {
     "name": "stdout",
     "output_type": "stream",
     "text": [
      "['cero', 20]\n"
     ]
    }
   ],
   "source": [
    "def modifico_parametro1(x):\n",
    "    x[0] = \"cero\"\n",
    "\n",
    "lista = [1, 20]\n",
    "modifico_parametro1(lista)\n",
    "print(lista)"
   ]
  },
  {
   "cell_type": "markdown",
   "id": "continued-victoria",
   "metadata": {
    "slideshow": {
     "slide_type": "fragment"
    }
   },
   "source": [
    "### Entonces, ¿qué podemos decir sobre el pasaje de parámetros en Python?"
   ]
  },
  {
   "cell_type": "markdown",
   "id": "available-disorder",
   "metadata": {
    "slideshow": {
     "slide_type": "subslide"
    }
   },
   "source": [
    "# Cuando pasamos un parámetro a una función, pasamos **una copia de la referencia** al objeto pasado."
   ]
  },
  {
   "cell_type": "markdown",
   "id": "outdoor-arabic",
   "metadata": {
    "slideshow": {
     "slide_type": "subslide"
    }
   },
   "source": [
    "# Analicemos de nuevo los ejemplos anteriores"
   ]
  },
  {
   "cell_type": "code",
   "execution_count": 5,
   "id": "primary-technique",
   "metadata": {
    "slideshow": {
     "slide_type": "fragment"
    }
   },
   "outputs": [
    {
     "name": "stdout",
     "output_type": "stream",
     "text": [
      "2\n",
      "['cero', 20]\n"
     ]
    }
   ],
   "source": [
    "def modifico_parametro(x):\n",
    "    x = 10\n",
    "    \n",
    "a = 2\n",
    "modifico_parametro(a)\n",
    "print(a)\n",
    "\n",
    "def modifico_parametro1(x):\n",
    "    x[0] = \"cero\"\n",
    "\n",
    "lista = [1, 20]\n",
    "modifico_parametro1(lista)\n",
    "print(lista)"
   ]
  },
  {
   "cell_type": "markdown",
   "id": "civilian-despite",
   "metadata": {
    "slideshow": {
     "slide_type": "subslide"
    }
   },
   "source": [
    "# Ahora miremos este otro ejemplo"
   ]
  },
  {
   "cell_type": "code",
   "execution_count": 6,
   "id": "extensive-venture",
   "metadata": {
    "slideshow": {
     "slide_type": "fragment"
    }
   },
   "outputs": [
    {
     "name": "stdout",
     "output_type": "stream",
     "text": [
      "[1, 20]\n"
     ]
    }
   ],
   "source": [
    "def modifico_lista(x):\n",
    "    y = x[:]\n",
    "    y[0] = \"cero\"\n",
    "\n",
    "lista = [1,20]\n",
    "modifico_lista(lista)\n",
    "\n",
    "print(lista)"
   ]
  },
  {
   "cell_type": "markdown",
   "id": "arctic-nurse",
   "metadata": {
    "slideshow": {
     "slide_type": "fragment"
    }
   },
   "source": [
    "- ¿Qué pasa en este caso? \n",
    "- Y si invoco con **modifico_lista(lista[:])** sería necesario la primer asignación? ¿Les parece buena esta práctica?\n"
   ]
  },
  {
   "cell_type": "markdown",
   "id": "hollywood-mobility",
   "metadata": {
    "slideshow": {
     "slide_type": "subslide"
    }
   },
   "source": [
    "# ¿Podemos retornar más de un valor?\n",
    "\n",
    "### Queremos definir una función que, dada una cadena de caracteres,  retorne la **cantidad de vocales abiertas, vocales cerradas y la cantidad total de caracteres** de la misma. \n",
    "\n",
    "- ¿Qué tipo de dato retorna la función?"
   ]
  },
  {
   "cell_type": "code",
   "execution_count": 7,
   "id": "adaptive-assembly",
   "metadata": {
    "slideshow": {
     "slide_type": "fragment"
    }
   },
   "outputs": [
    {
     "data": {
      "text/plain": [
       "tuple"
      ]
     },
     "execution_count": 7,
     "metadata": {},
     "output_type": "execute_result"
    }
   ],
   "source": [
    "def retorno_varios(cadena):\n",
    "    \"\"\" ..... \"\"\"\n",
    "    cadena = cadena.lower()\n",
    "    cant_aeo = cadena.count(\"a\") + cadena.count(\"e\") + cadena.count(\"o\")\n",
    "    cant_iu = cadena.count(\"i\") + cadena.count(\"u\")\n",
    "    return (cant_aeo, cant_iu, len(cadena))\n",
    "\n",
    "\n",
    "algo = retorno_varios(\"Seminario de Python\")\n",
    "type(algo)"
   ]
  },
  {
   "cell_type": "markdown",
   "id": "overhead-melbourne",
   "metadata": {
    "slideshow": {
     "slide_type": "subslide"
    }
   },
   "source": [
    "# ¿Cómo accedemos a los valores retornados?\n",
    " \n",
    "- En el return se devuelve una tupla, por lo tanto, accedemos como en cualquier tupla:"
   ]
  },
  {
   "cell_type": "code",
   "execution_count": 8,
   "id": "meaning-anthony",
   "metadata": {
    "slideshow": {
     "slide_type": "fragment"
    }
   },
   "outputs": [
    {
     "data": {
      "text/plain": [
       "5"
      ]
     },
     "execution_count": 8,
     "metadata": {},
     "output_type": "execute_result"
    }
   ],
   "source": [
    "vocales_abiertas = retorno_varios(\"Seminario de Python\")[0]\n",
    "vocales_abiertas"
   ]
  },
  {
   "cell_type": "code",
   "execution_count": 9,
   "id": "impaired-visit",
   "metadata": {
    "slideshow": {
     "slide_type": "fragment"
    }
   },
   "outputs": [
    {
     "data": {
      "text/plain": [
       "1"
      ]
     },
     "execution_count": 9,
     "metadata": {},
     "output_type": "execute_result"
    }
   ],
   "source": [
    "abiertas, cerradas, longitud = retorno_varios(\"Este video va a ser corto\")\n",
    "cerradas"
   ]
  },
  {
   "cell_type": "markdown",
   "id": "adult-contest",
   "metadata": {
    "slideshow": {
     "slide_type": "slide"
    }
   },
   "source": [
    "# Los parámetros en Python pueden tener valores por defecto"
   ]
  },
  {
   "cell_type": "code",
   "execution_count": 10,
   "id": "dutch-chicago",
   "metadata": {
    "slideshow": {
     "slide_type": "fragment"
    }
   },
   "outputs": [
    {
     "name": "stdout",
     "output_type": "stream",
     "text": [
      "Ricky Martin\n",
      "Maluma\n",
      "Madona\n"
     ]
    }
   ],
   "source": [
    "def mi_musica(dicci_musica, nombre, tipo_musica=\"nacional\"):\n",
    "    \"\"\"  .... \"\"\"\n",
    "    if nombre in dicci_musica:\n",
    "        interpretes = dicci_musica[nombre]\n",
    "        for elem in interpretes[tipo_musica]:\n",
    "            print(elem)\n",
    "    else:\n",
    "        print(f\"¡Hola {nombre}! No tenés registrada música en esta colección\")\n",
    "\n",
    "dicci_musica = {\"clau\": {\"internacional\": [\"AC/DC\", \"Led Zeppelin\", \"Bruce Springsteen\"],\n",
    "                        \"nacional\": [\"Pappo\", \"Miguel Mateos\", \"Los Piojos\", \"Nonpalidece\"]\n",
    "                        },\n",
    "               \"vivi\": {\"internacional\": [\"Ricky Martin\", \"Maluma\", \"Madona\"],\n",
    "                         \"nacional\": [\"Lali\"]}\n",
    "               }\n",
    "mi_musica(dicci_musica, \"vivi\", \"internacional\")"
   ]
  },
  {
   "cell_type": "markdown",
   "id": "forty-renewal",
   "metadata": {
    "slideshow": {
     "slide_type": "fragment"
    }
   },
   "source": [
    "Si hay más de un argumento, los  que tienen **valores por defecto  siempre van al final de la lista de parámetros**."
   ]
  },
  {
   "cell_type": "markdown",
   "id": "turkish-collectible",
   "metadata": {
    "slideshow": {
     "slide_type": "subslide"
    }
   },
   "source": [
    "Los parámetros formales y reales se asocian de acuerdo al **orden posicional**, pero invocar a la función con los parámetros en **otro orden** pero **nombrando al parámetro**."
   ]
  },
  {
   "cell_type": "code",
   "execution_count": 11,
   "id": "quick-worth",
   "metadata": {
    "slideshow": {
     "slide_type": "fragment"
    }
   },
   "outputs": [
    {
     "name": "stdout",
     "output_type": "stream",
     "text": [
      "Ricky Martin\n",
      "Maluma\n",
      "Madona\n"
     ]
    }
   ],
   "source": [
    "def mi_musica(dicci_musica, nombre, tipo_musica=\"nacional\"):\n",
    "    if nombre in dicci_musica:\n",
    "        interpretes = dicci_musica[nombre]\n",
    "        for elem in interpretes[tipo_musica]:\n",
    "            print(elem)\n",
    "    else:\n",
    "        print(f\"¡Hola {nombre}! No tenés registrada música en esta colección\")\n",
    "\n",
    "\n",
    "mi_musica(nombre=\"vivi\", tipo_musica=\"internacional\", dicci_musica=dicci_musica )"
   ]
  },
  {
   "cell_type": "markdown",
   "id": "disciplinary-nation",
   "metadata": {
    "slideshow": {
     "slide_type": "subslide"
    }
   },
   "source": [
    "# Obervemos con atención este código"
   ]
  },
  {
   "cell_type": "code",
   "execution_count": 12,
   "id": "orange-crawford",
   "metadata": {
    "slideshow": {
     "slide_type": "fragment"
    }
   },
   "outputs": [
    {
     "name": "stdout",
     "output_type": "stream",
     "text": [
      "[1]\n",
      "[1, 2]\n",
      "[1, 2, 3]\n"
     ]
    }
   ],
   "source": [
    "def agrego(a, L=[]):\n",
    "    L.append(a)\n",
    "    return L\n",
    "\n",
    "\n",
    "print(agrego(1))\n",
    "print(agrego(2))\n",
    "print(agrego(3))"
   ]
  },
  {
   "cell_type": "markdown",
   "id": "suspended-perception",
   "metadata": {
    "slideshow": {
     "slide_type": "fragment"
    }
   },
   "source": [
    "### IMPORTANTE: los valores por defecto se evalúan UNA ÚNICA VEZ  en la definición de la función."
   ]
  },
  {
   "cell_type": "markdown",
   "id": "static-hometown",
   "metadata": {
    "slideshow": {
     "slide_type": "slide"
    }
   },
   "source": [
    "# Veamos otro tipo predefinido de Python"
   ]
  },
  {
   "cell_type": "markdown",
   "id": "dutch-heart",
   "metadata": {
    "slideshow": {
     "slide_type": "subslide"
    }
   },
   "source": [
    "# Conjuntos en Python\n",
    "\n",
    "- Un conjunto es una colección de datos heterogéna, **desordenada**, **NO indexada** y **sin elementos duplicados**."
   ]
  },
  {
   "cell_type": "code",
   "execution_count": 13,
   "id": "hindu-phone",
   "metadata": {
    "slideshow": {
     "slide_type": "fragment"
    }
   },
   "outputs": [
    {
     "name": "stdout",
     "output_type": "stream",
     "text": [
      "{'Soda Stéreo', 'AC/DC', 'Los Piojos', 'Metallica', 'Greta Van Fleet'}\n"
     ]
    }
   ],
   "source": [
    "bandas = {\"AC/DC\", \"Metallica\", \"Greta Van Fleet\", \"Soda Stéreo\", \"Los Piojos\"}\n",
    "print(bandas)"
   ]
  },
  {
   "cell_type": "code",
   "execution_count": 15,
   "id": "secure-university",
   "metadata": {
    "slideshow": {
     "slide_type": "fragment"
    }
   },
   "outputs": [
    {
     "data": {
      "text/plain": [
       "{'Greta Van Fleet', 'Led Zeppelin'}"
      ]
     },
     "execution_count": 15,
     "metadata": {},
     "output_type": "execute_result"
    }
   ],
   "source": [
    "bandas_nacionales = set((\"Soda Stéreo\", \"La Renga\"))\n",
    "bandas_nacionales\n",
    "bandas_internacionales = set([\"Greta Van Fleet\", \"Led Zeppelin\"])\n",
    "bandas_internacionales"
   ]
  },
  {
   "cell_type": "code",
   "execution_count": 14,
   "id": "welcome-combine",
   "metadata": {
    "slideshow": {
     "slide_type": "fragment"
    }
   },
   "outputs": [
    {
     "data": {
      "text/plain": [
       "{'a', 'b', 'l', 'n', 'z'}"
      ]
     },
     "execution_count": 14,
     "metadata": {},
     "output_type": "execute_result"
    }
   ],
   "source": [
    "letras = set(\"alabanza\")\n",
    "letras"
   ]
  },
  {
   "cell_type": "markdown",
   "id": "isolated-christopher",
   "metadata": {
    "slideshow": {
     "slide_type": "subslide"
    }
   },
   "source": [
    "# No confundir\n"
   ]
  },
  {
   "cell_type": "code",
   "execution_count": 16,
   "id": "broad-trail",
   "metadata": {
    "slideshow": {
     "slide_type": "fragment"
    }
   },
   "outputs": [
    {
     "data": {
      "text/plain": [
       "set"
      ]
     },
     "execution_count": 16,
     "metadata": {},
     "output_type": "execute_result"
    }
   ],
   "source": [
    "dicci = {}\n",
    "conjunto = set()\n",
    "\n",
    "type(conjunto)"
   ]
  },
  {
   "cell_type": "code",
   "execution_count": 18,
   "id": "cardiovascular-sound",
   "metadata": {},
   "outputs": [
    {
     "name": "stdout",
     "output_type": "stream",
     "text": [
      "{'alabanza'}\n",
      "{'l', 'n', 'z', 'a', 'b'}\n"
     ]
    }
   ],
   "source": [
    "c1 = {'alabanza'}\n",
    "c2 = set('alabanza')\n",
    "print(c1)\n",
    "print(c2)"
   ]
  },
  {
   "cell_type": "markdown",
   "id": "tough-clear",
   "metadata": {
    "slideshow": {
     "slide_type": "subslide"
    }
   },
   "source": [
    "# ¿Cómo recorremos un conjunto?"
   ]
  },
  {
   "cell_type": "code",
   "execution_count": 19,
   "id": "proprietary-observer",
   "metadata": {
    "slideshow": {
     "slide_type": "fragment"
    }
   },
   "outputs": [
    {
     "name": "stdout",
     "output_type": "stream",
     "text": [
      "Soda Stéreo\n",
      "AC/DC\n",
      "Los Piojos\n",
      "Metallica\n",
      "Greta Van Fleet\n"
     ]
    }
   ],
   "source": [
    "bandas = {\"AC/DC\", \"Metallica\", \"Greta Van Fleet\", \"Soda Stéreo\", \"Los Piojos\"}\n",
    "\n",
    "for elem in bandas:\n",
    "    print(elem)"
   ]
  },
  {
   "cell_type": "markdown",
   "id": "descending-scenario",
   "metadata": {
    "slideshow": {
     "slide_type": "fragment"
    }
   },
   "source": [
    "# Y, ¿cómo sabemos la cantidad de elementos de un conjunto?"
   ]
  },
  {
   "cell_type": "code",
   "execution_count": 20,
   "id": "together-detroit",
   "metadata": {},
   "outputs": [
    {
     "data": {
      "text/plain": [
       "6"
      ]
     },
     "execution_count": 20,
     "metadata": {},
     "output_type": "execute_result"
    }
   ],
   "source": [
    "len(bandas)\n",
    "c2 = set('alabanzas')\n",
    "len(c2)"
   ]
  },
  {
   "cell_type": "markdown",
   "id": "accomplished-change",
   "metadata": {
    "slideshow": {
     "slide_type": "subslide"
    }
   },
   "source": [
    "# Operaciones con conjuntos\n",
    "\n",
    "- Pensemos en las operaciones matemáticas sobre conjuntos: \n",
    "    - **in**: retonar si un elemento pertenece o no a un conjunto.\n",
    "    - **|**: unión entre dos conjuntos.\n",
    "    - **&**: intersección entre dos conjuntos. \n",
    "    - **-**: diferencia de conjuntos.\n"
   ]
  },
  {
   "cell_type": "code",
   "execution_count": 21,
   "id": "expensive-lewis",
   "metadata": {
    "slideshow": {
     "slide_type": "subslide"
    }
   },
   "outputs": [
    {
     "name": "stdout",
     "output_type": "stream",
     "text": [
      "False\n",
      "{'La Renga', 'Soda Stéreo', 'AC/DC', 'Los Piojos', 'Metallica', 'Greta Van Fleet'}\n",
      "{'Soda Stéreo', 'Los Piojos'}\n",
      "{'AC/DC', 'Metallica', 'Greta Van Fleet'}\n"
     ]
    }
   ],
   "source": [
    "bandas = {\"AC/DC\", \"Metallica\", \"Greta Van Fleet\", \"Soda Stéreo\", \"Los Piojos\"}\n",
    "bandas_nacionales = set((\"Soda Stéreo\", \"La Renga\", \"Los Piojos\"))\n",
    "\n",
    "print(\"Foo Fighters\" in bandas)\n",
    "\n",
    "todos = bandas | bandas_nacionales\n",
    "print(todos)\n",
    "\n",
    "en_ambos = bandas & bandas_nacionales\n",
    "print(en_ambos)\n",
    "\n",
    "solo_en_1 = bandas - bandas_nacionales\n",
    "print(solo_en_1)"
   ]
  },
  {
   "cell_type": "markdown",
   "id": "artificial-integer",
   "metadata": {
    "slideshow": {
     "slide_type": "subslide"
    }
   },
   "source": [
    "# También hay métodos  que se pueden utilizar\n",
    "\n",
    "- Para copiar conjuntos podemos usar la sentencia de asignación o usando **copy()**.\n",
    "- Se puede adicionar un elemento con **add()**."
   ]
  },
  {
   "cell_type": "code",
   "execution_count": 26,
   "id": "educational-beaver",
   "metadata": {
    "slideshow": {
     "slide_type": "fragment"
    }
   },
   "outputs": [
    {
     "name": "stdout",
     "output_type": "stream",
     "text": [
      "140227264541664\n",
      "140227264541664\n",
      "{'Foo Fighters', 'Soda Stéreo', 'AC/DC', 'Los Piojos', 'Metallica', 'Greta Van Fleet'}\n"
     ]
    }
   ],
   "source": [
    "bandas = {\"AC/DC\", \"Metallica\", \"Greta Van Fleet\", \"Soda Stéreo\", \"Los Piojos\"}\n",
    "bandas_nacionales = set((\"Soda Stéreo\", \"La Renga\", \"Los Piojos\"))\n",
    "\n",
    "mis_bandas = bandas\n",
    "#mis_bandas = bandas.copy()\n",
    "print(id(mis_bandas))\n",
    "print(id(bandas))\n",
    "\n",
    "bandas.add(\"Foo Fighters\")\n",
    "print(mis_bandas)"
   ]
  },
  {
   "cell_type": "markdown",
   "id": "positive-pathology",
   "metadata": {
    "slideshow": {
     "slide_type": "subslide"
    }
   },
   "source": [
    "# Probar en casa otros métodos\n",
    "\n",
    "- issubset(), isdisjoint(), issuperset(), update(), discard(), remove()\n",
    "- [+ Info en Real Python](https://realpython.com/python-sets/)\n",
    "- [+ Info en w3schools](https://www.w3schools.com/python/python_sets.asp)\n",
    "- [+ Info en el sitio oficial](https://docs.python.org/3/c-api/set.html)"
   ]
  },
  {
   "cell_type": "markdown",
   "id": "ideal-rotation",
   "metadata": {
    "slideshow": {
     "slide_type": "slide"
    }
   },
   "source": [
    "<img src=\"imagenes/portada_video.png\" alt=\"nos vemos el martes\" style=\"width:1050px;\"/>\n"
   ]
  }
 ],
 "metadata": {
  "celltoolbar": "Slideshow",
  "kernelspec": {
   "display_name": "Python 3 (ipykernel)",
   "language": "python",
   "name": "python3"
  },
  "language_info": {
   "codemirror_mode": {
    "name": "ipython",
    "version": 3
   },
   "file_extension": ".py",
   "mimetype": "text/x-python",
   "name": "python",
   "nbconvert_exporter": "python",
   "pygments_lexer": "ipython3",
   "version": "3.10.2"
  }
 },
 "nbformat": 4,
 "nbformat_minor": 5
}
