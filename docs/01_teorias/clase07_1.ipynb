{
 "cells": [
  {
   "cell_type": "markdown",
   "id": "younger-ready",
   "metadata": {
    "slideshow": {
     "slide_type": "slide"
    }
   },
   "source": [
    "# Seminario de Lenguajes - Python\n",
    "## Cursada 2022\n",
    "### Clase 7: manejo de excepciones"
   ]
  },
  {
   "cell_type": "markdown",
   "id": "impossible-appeal",
   "metadata": {
    "slideshow": {
     "slide_type": "slide"
    }
   },
   "source": [
    "# ¿Excepciones? "
   ]
  },
  {
   "cell_type": "markdown",
   "id": "63e4d936",
   "metadata": {
    "slideshow": {
     "slide_type": "slide"
    }
   },
   "source": [
    "## Desafío 1: analicemos este código\n",
    "\n",
    "¿Dónde se puede producir una excepción? ¿Cuál o cuáles?"
   ]
  },
  {
   "cell_type": "code",
   "execution_count": 2,
   "id": "c46b1060",
   "metadata": {
    "slideshow": {
     "slide_type": "fragment"
    }
   },
   "outputs": [
    {
     "name": "stdout",
     "output_type": "stream",
     "text": [
      "Ingresá un nuevo tema (FIN para terminar): run\n",
      "ingresá a qué década pertenece: veinte\n"
     ]
    },
    {
     "ename": "ValueError",
     "evalue": "invalid literal for int() with base 10: 'veinte'",
     "output_type": "error",
     "traceback": [
      "\u001b[0;31m---------------------------------------------------------------------------\u001b[0m",
      "\u001b[0;31mValueError\u001b[0m                                Traceback (most recent call last)",
      "Input \u001b[0;32mIn [2]\u001b[0m, in \u001b[0;36m<cell line: 6>\u001b[0;34m()\u001b[0m\n\u001b[1;32m      5\u001b[0m tema \u001b[38;5;241m=\u001b[39m \u001b[38;5;28minput\u001b[39m(\u001b[38;5;124m\"\u001b[39m\u001b[38;5;124mIngresá un nuevo tema (FIN para terminar): \u001b[39m\u001b[38;5;124m\"\u001b[39m)\n\u001b[1;32m      6\u001b[0m \u001b[38;5;28;01mwhile\u001b[39;00m tema \u001b[38;5;241m!=\u001b[39m\u001b[38;5;124m\"\u001b[39m\u001b[38;5;124mFIN\u001b[39m\u001b[38;5;124m\"\u001b[39m:\n\u001b[0;32m----> 7\u001b[0m     decada \u001b[38;5;241m=\u001b[39m \u001b[38;5;28;43mint\u001b[39;49m\u001b[43m(\u001b[49m\u001b[38;5;28;43minput\u001b[39;49m\u001b[43m(\u001b[49m\u001b[38;5;124;43m\"\u001b[39;49m\u001b[38;5;124;43mingresá a qué década pertenece: \u001b[39;49m\u001b[38;5;124;43m\"\u001b[39;49m\u001b[43m)\u001b[49m\u001b[43m)\u001b[49m\n\u001b[1;32m      8\u001b[0m     mi_musica[decada]\u001b[38;5;241m.\u001b[39mappend(tema)\n\u001b[1;32m     10\u001b[0m     tema \u001b[38;5;241m=\u001b[39m \u001b[38;5;28minput\u001b[39m(\u001b[38;5;124m\"\u001b[39m\u001b[38;5;124mIngresá un nuevo tema (FIN para terminar): \u001b[39m\u001b[38;5;124m\"\u001b[39m)\n",
      "\u001b[0;31mValueError\u001b[0m: invalid literal for int() with base 10: 'veinte'"
     ]
    }
   ],
   "source": [
    "mi_musica = {70: [\"Stairway to heaven\", \"Bohemian Rhapsody\"],\n",
    "             80: [\"Dancing in the dark\", \"Welcome to the jungle\", \"Under pressure\"],\n",
    "             2000:[\"Given up\", \"The pretender\"]}\n",
    "\n",
    "tema = input(\"Ingresá un nuevo tema (FIN para terminar): \")\n",
    "while tema !=\"FIN\":\n",
    "    decada = int(input(\"ingresá a qué década pertenece: \"))\n",
    "    mi_musica[decada].append(tema)\n",
    "\n",
    "    tema = input(\"Ingresá un nuevo tema (FIN para terminar): \")"
   ]
  },
  {
   "cell_type": "markdown",
   "id": "amazing-catholic",
   "metadata": {
    "slideshow": {
     "slide_type": "subslide"
    }
   },
   "source": [
    "# Recordemos: ¿qué es un excepción?"
   ]
  },
  {
   "cell_type": "markdown",
   "id": "196e268d",
   "metadata": {
    "slideshow": {
     "slide_type": "fragment"
    }
   },
   "source": [
    "Una **excepción** es un acontecimiento, que **ocurre durante la ejecución** de un programa, que **interrumpe** el **flujo normal** de las instrucciones del programa. "
   ]
  },
  {
   "cell_type": "markdown",
   "id": "muslim-minute",
   "metadata": {
    "slideshow": {
     "slide_type": "subslide"
    }
   },
   "source": [
    "# Excepciones en Python\n",
    "Habíamos visto la siguiente estructura:\n",
    "\n",
    "```python\n",
    "\n",
    "try:\n",
    "    sentencias\n",
    "except nombreExcepción:\n",
    "    sentencias\n",
    "except nombreExcepción:\n",
    "    sentencias\n",
    "except:\n",
    "```\n",
    "\n",
    "- [+Info](https://docs.python.org/3/library/exceptions.html)"
   ]
  },
  {
   "cell_type": "markdown",
   "id": "32da064f",
   "metadata": {
    "slideshow": {
     "slide_type": "subslide"
    }
   },
   "source": [
    "#  ¿Cómo incluímos el manejo de excepciones en nuestro código?\n",
    "### Analicemos esta solución al desafío: "
   ]
  },
  {
   "cell_type": "code",
   "execution_count": 3,
   "id": "8377e7e2",
   "metadata": {
    "slideshow": {
     "slide_type": "subslide"
    }
   },
   "outputs": [
    {
     "name": "stdout",
     "output_type": "stream",
     "text": [
      "Ingresá un nuevo tema (FIN para terminar): Run\n",
      "ingresá a qué década pertenece: 2020\n",
      "Por ahora, sólo tengo registradas las décadas: 70, 80 y 2000. Ingresá una de ellas. \n",
      "                 Empecemos de nuevo...\n",
      "Ingresá un nuevo tema (FIN para terminar): Ascenso\n",
      "ingresá a qué década pertenece: veinte\n",
      "Para ingresar la decada, tenés que ingresar un número. Empecemos de nuevo...\n",
      "Ingresá un nuevo tema (FIN para terminar): FIN\n"
     ]
    }
   ],
   "source": [
    "mi_musica = {70: [\"Stairway to heaven\", \"Bohemian Rhapsody\"],\n",
    "             80: [\"Dancing in the dark\", \"Welcome to the jungle\", \"Under pressure\"],\n",
    "             2000:[\"Given up\", \"The pretender\"]}\n",
    "\n",
    "tema = input(\"Ingresá un nuevo tema (FIN para terminar): \")\n",
    "while tema !=\"FIN\":\n",
    "    try:\n",
    "        decada = int(input(\"ingresá a qué década pertenece: \"))\n",
    "        mi_musica[decada].append(tema)\n",
    "    except ValueError:\n",
    "        print(\"Para ingresar la decada, tenés que ingresar un número. Empecemos de nuevo...\")\n",
    "    except KeyError:\n",
    "        print(\"\"\"Por ahora, sólo tengo registradas las décadas: 70, 80 y 2000. Ingresá una de ellas. \n",
    "                 Empecemos de nuevo...\"\"\")\n",
    "\n",
    "    tema = input(\"Ingresá un nuevo tema (FIN para terminar): \")"
   ]
  },
  {
   "cell_type": "markdown",
   "id": "unusual-jacob",
   "metadata": {
    "slideshow": {
     "slide_type": "subslide"
    }
   },
   "source": [
    "# Podríamos haber  manejado de  ambas excepciones juntas:"
   ]
  },
  {
   "cell_type": "code",
   "execution_count": 4,
   "id": "97c85fce",
   "metadata": {},
   "outputs": [
    {
     "name": "stdout",
     "output_type": "stream",
     "text": [
      "Ingresá un nuevo tema (FIN para terminar): Ascenso\n",
      "ingresá a qué década pertenece: veinte\n",
      "Hubo un error en el ingreso de datos. Intentá de nuevo\n",
      "Ingresá un nuevo tema (FIN para terminar): FIN\n"
     ]
    }
   ],
   "source": [
    "mi_musica = {70: [\"Stairway to heaven\", \"Bohemian Rhapsody\"],\n",
    "             80: [\"Dancing in the dark\", \"Welcome to the jungle\", \"Under pressure\"],\n",
    "             2000:[\"Given up\", \"The pretender\"]}\n",
    "tema = input(\"Ingresá un nuevo tema (FIN para terminar): \")\n",
    "while tema !=\"FIN\":\n",
    "    try:\n",
    "        decada = int(input(\"ingresá a qué década pertenece: \"))\n",
    "        mi_musica[decada].append(tema)\n",
    "    except (ValueError, KeyError):\n",
    "        print(\"Hubo un error en el ingreso de datos. Intentá de nuevo\")\n",
    "    except:\n",
    "        print(\"Ups! Algo ocurrió\")\n",
    "    tema = input(\"Ingresá un nuevo tema (FIN para terminar): \")\n"
   ]
  },
  {
   "cell_type": "markdown",
   "id": "according-majority",
   "metadata": {
    "slideshow": {
     "slide_type": "fragment"
    }
   },
   "source": [
    "- ¿Cuándo se imprimiría el mensaje: \"Ups! Algo ocurrió\"?"
   ]
  },
  {
   "cell_type": "markdown",
   "id": "meaningful-rwanda",
   "metadata": {
    "slideshow": {
     "slide_type": "subslide"
    }
   },
   "source": [
    "# Recordemos lo planteado la clase pasada: ¿qué debemos investigar para trabajar con  excepciones?\n",
    "\n",
    "- ¿Qué acción se toma después de levantada y manejada una excepción? ¿Se continúa con la ejecución de la unidad que lo provocó o se termina?\n",
    "- ¿Cómo se alcanza una excepción? \n",
    "- ¿Cómo especificar los manejadores de excepciones que se deben ejecutar cuando se alcanzan las mismas?\n",
    "- ¿Qué sucede cuando no se encuentra un manejador para una excepción levantada?\n",
    "- ¿El lenguaje tiene excepciones predefinidas?\n",
    "- ¿Podemos levantar en forma explícita una excepción?\n",
    "- ¿Podemos crear nuestras propias excepciones?"
   ]
  },
  {
   "cell_type": "markdown",
   "id": "83dd018b",
   "metadata": {
    "slideshow": {
     "slide_type": "subslide"
    }
   },
   "source": [
    "# Ya respondimos algunas:\n",
    "\n",
    "- **¿Qué acción se toma después de levantada y manejada una excepción? ¿Se continúa con la ejecución de la unidad que lo provocó o se termina?**\n",
    "- **¿Cómo se alcanza una excepción?**\n",
    "- **¿Cómo especificar los manejadores de excepciones que se deben ejecutar cuando se alcanzan las mismas?**\n",
    "- ¿Qué sucede cuando no se encuentra un manejador para una excepción levantada?\n",
    "- **¿El lenguaje tiene excepciones predefinidas?**\n",
    "- ¿Podemos levantar en forma explícita una excepción?\n",
    "- ¿Podemos crear nuestras propias excepciones?"
   ]
  },
  {
   "cell_type": "markdown",
   "id": "suspended-canon",
   "metadata": {
    "slideshow": {
     "slide_type": "subslide"
    }
   },
   "source": [
    "# Se puede agregar algo más...\n",
    "La sentencia completa:\n",
    "\n",
    "```python\n",
    "try:\n",
    "    sentencias\n",
    "except excepcion1, excepcion2:\n",
    "    sentencias\n",
    "except excepcion3 as variable:\n",
    "    sentencias\n",
    "except:\n",
    "    sentencias\n",
    "else:\n",
    "    sentencias\n",
    "finally:\n",
    "    sentencias\n",
    "    \n",
    "```"
   ]
  },
  {
   "cell_type": "markdown",
   "id": "b344bae4",
   "metadata": {
    "slideshow": {
     "slide_type": "fragment"
    }
   },
   "source": [
    "### Teníamos una tarea...."
   ]
  },
  {
   "cell_type": "markdown",
   "id": "193d8775",
   "metadata": {
    "slideshow": {
     "slide_type": "subslide"
    }
   },
   "source": [
    "# Veamos este ejemplo sencillo"
   ]
  },
  {
   "cell_type": "code",
   "execution_count": 8,
   "id": "generous-albert",
   "metadata": {
    "slideshow": {
     "slide_type": "fragment"
    }
   },
   "outputs": [
    {
     "name": "stdout",
     "output_type": "stream",
     "text": [
      "10\n",
      "Este mensaje se imprime porque  NO se levantó la excepción\n",
      "Este mensaje se imprime SIEMPRE\n"
     ]
    }
   ],
   "source": [
    "XY = 10\n",
    "try:\n",
    "    print(XY)\n",
    "except NameError:\n",
    "    print(\"Usaste una variable que no está definida\")\n",
    "else:\n",
    "    print(\"Este mensaje se imprime porque  NO se levantó la excepción\")\n",
    "finally:\n",
    "    print(\"Este mensaje se imprime SIEMPRE\")"
   ]
  },
  {
   "cell_type": "markdown",
   "id": "fe3440b2",
   "metadata": {
    "slideshow": {
     "slide_type": "fragment"
    }
   },
   "source": [
    "### Entonces, ¿para qué usamos else y finally?"
   ]
  },
  {
   "cell_type": "markdown",
   "id": "above-former",
   "metadata": {
    "slideshow": {
     "slide_type": "subslide"
    }
   },
   "source": [
    "# Repasemos todo con este otro ejemplo:"
   ]
  },
  {
   "cell_type": "code",
   "execution_count": 10,
   "id": "historic-accused",
   "metadata": {
    "slideshow": {
     "slide_type": "fragment"
    }
   },
   "outputs": [
    {
     "name": "stdout",
     "output_type": "stream",
     "text": [
      "Vamos a entrar a otro bloque TRY\n"
     ]
    },
    {
     "ename": "NameError",
     "evalue": "name 'z' is not defined",
     "output_type": "error",
     "traceback": [
      "\u001b[0;31m---------------------------------------------------------------------------\u001b[0m",
      "\u001b[0;31mNameError\u001b[0m                                 Traceback (most recent call last)",
      "Input \u001b[0;32mIn [10]\u001b[0m, in \u001b[0;36m<cell line: 3>\u001b[0;34m()\u001b[0m\n\u001b[1;32m      5\u001b[0m \u001b[38;5;28;01mtry\u001b[39;00m:\n\u001b[1;32m      6\u001b[0m     \u001b[38;5;28;01mfor\u001b[39;00m x \u001b[38;5;129;01min\u001b[39;00m \u001b[38;5;28mrange\u001b[39m(\u001b[38;5;241m1\u001b[39m,\u001b[38;5;241m6\u001b[39m):\n\u001b[0;32m----> 7\u001b[0m         \u001b[38;5;28mprint\u001b[39m(dicci[\u001b[43mz\u001b[49m])      \u001b[38;5;66;03m# OJO que estamos usando la variable z\u001b[39;00m\n\u001b[1;32m      8\u001b[0m \u001b[38;5;28;01mexcept\u001b[39;00m \u001b[38;5;167;01mKeyError\u001b[39;00m:\n\u001b[1;32m      9\u001b[0m     dicci[x] \u001b[38;5;241m=\u001b[39m \u001b[38;5;124m'\u001b[39m\u001b[38;5;124mAgregado\u001b[39m\u001b[38;5;124m'\u001b[39m\n",
      "\u001b[0;31mNameError\u001b[0m: name 'z' is not defined"
     ]
    }
   ],
   "source": [
    "dicci = {0:\"Led Zeppelin\", 2:\"Deep Purple\", 3:\"Black Sabbath\"}\n",
    "y = 9\n",
    "try:\n",
    "    print('Vamos a entrar a otro bloque TRY')\n",
    "    try:\n",
    "        for x in range(1,6):\n",
    "            print(dicci[z])      # OJO que estamos usando la variable z\n",
    "    except KeyError:\n",
    "        dicci[x] = 'Agregado'\n",
    "    \n",
    "    y = y + 1\n",
    "    print(f\"El valor de y es {y}\")\n",
    "except NameError:\n",
    "    print('OJO! Se está usando una variable que no existe')\n",
    "\n",
    "print('Se sigue con las siguientes sentencias del programa')"
   ]
  },
  {
   "cell_type": "markdown",
   "id": "proprietary-sharp",
   "metadata": {
    "slideshow": {
     "slide_type": "fragment"
    }
   },
   "source": [
    "- ¿Se ejecutaron las líneas 11 y 12?"
   ]
  },
  {
   "cell_type": "markdown",
   "id": "endangered-minute",
   "metadata": {
    "slideshow": {
     "slide_type": "subslide"
    }
   },
   "source": [
    "### El ejemplo demuestra que Python aplica el mecanismo de TERMINACIÓN."
   ]
  },
  {
   "cell_type": "markdown",
   "id": "indonesian-reducing",
   "metadata": {
    "slideshow": {
     "slide_type": "subslide"
    }
   },
   "source": [
    "# Observemos el bloque finally en este otro ejemplo:"
   ]
  },
  {
   "cell_type": "code",
   "execution_count": 12,
   "id": "bottom-clause",
   "metadata": {
    "slideshow": {
     "slide_type": "fragment"
    }
   },
   "outputs": [
    {
     "name": "stdout",
     "output_type": "stream",
     "text": [
      "Vamos a entrar a otro bloque TRY\n",
      "El valor de y es 10\n",
      "OJO! Se está usando una variable que no existe\n",
      "Se sigue con las siguientes sentencias del programa\n"
     ]
    }
   ],
   "source": [
    "dicci = {0:\"Led Zeppelin\", 2:\"Deep Purple\", 3:\"Black Sabbath\"}\n",
    "y = 9\n",
    "try:\n",
    "    print('Vamos a entrar a otro bloque TRY')\n",
    "    try:\n",
    "        for x in range(1,6):\n",
    "            print (dicci[z])      # OJO que estamos usando la variable z\n",
    "    except KeyError:\n",
    "        dicci[x] = 'Agregado'\n",
    "    finally:\n",
    "        y = y + 1\n",
    "        print(f\"El valor de y es {y}\")\n",
    "    print(\"Este texto no se imprime nunca!!!\")\n",
    "except NameError:\n",
    "    print('OJO! Se está usando una variable que no existe')\n",
    "\n",
    "print('Se sigue con las siguientes sentencias del programa')"
   ]
  },
  {
   "cell_type": "markdown",
   "id": "handed-wednesday",
   "metadata": {
    "slideshow": {
     "slide_type": "fragment"
    }
   },
   "source": [
    "- ¿Se ejecutaron las líneas 11 y 12?"
   ]
  },
  {
   "cell_type": "markdown",
   "id": "illegal-mechanism",
   "metadata": {
    "slideshow": {
     "slide_type": "subslide"
    }
   },
   "source": [
    "##  Y.. ¿qué sucede si no encuentra un manejador en esa primera búsqueda?"
   ]
  },
  {
   "cell_type": "markdown",
   "id": "37d6896d",
   "metadata": {
    "slideshow": {
     "slide_type": "subslide"
    }
   },
   "source": [
    "# Observemos el siguiente ejemplo:"
   ]
  },
  {
   "cell_type": "code",
   "execution_count": 14,
   "id": "sustained-february",
   "metadata": {
    "slideshow": {
     "slide_type": "fragment"
    }
   },
   "outputs": [
    {
     "name": "stdout",
     "output_type": "stream",
     "text": [
      "Este código sirve para mostrar propagación dinámica.\n",
      "Ingresá una clave para acceder al diccionario: (999 para finalizar) assss\n"
     ]
    },
    {
     "ename": "ValueError",
     "evalue": "invalid literal for int() with base 10: 'assss'",
     "output_type": "error",
     "traceback": [
      "\u001b[0;31m---------------------------------------------------------------------------\u001b[0m",
      "\u001b[0;31mValueError\u001b[0m                                Traceback (most recent call last)",
      "Input \u001b[0;32mIn [14]\u001b[0m, in \u001b[0;36m<cell line: 9>\u001b[0;34m()\u001b[0m\n\u001b[1;32m      6\u001b[0m         x \u001b[38;5;241m=\u001b[39m \u001b[38;5;241m0\u001b[39m\n\u001b[1;32m      8\u001b[0m \u001b[38;5;28mprint\u001b[39m(\u001b[38;5;124m'\u001b[39m\u001b[38;5;124mEste código sirve para mostrar propagación dinámica.\u001b[39m\u001b[38;5;124m'\u001b[39m)\n\u001b[0;32m----> 9\u001b[0m elem \u001b[38;5;241m=\u001b[39m \u001b[38;5;28;43mint\u001b[39;49m\u001b[43m(\u001b[49m\u001b[38;5;28;43minput\u001b[39;49m\u001b[43m(\u001b[49m\u001b[38;5;124;43m'\u001b[39;49m\u001b[38;5;124;43mIngresá una clave para acceder al diccionario: (999 para finalizar) \u001b[39;49m\u001b[38;5;124;43m'\u001b[39;49m\u001b[43m)\u001b[49m\u001b[43m)\u001b[49m\n\u001b[1;32m     10\u001b[0m \u001b[38;5;28;01mwhile\u001b[39;00m elem\u001b[38;5;241m!=\u001b[39m\u001b[38;5;241m999\u001b[39m:\n\u001b[1;32m     11\u001b[0m     \u001b[38;5;28;01mtry\u001b[39;00m:\n",
      "\u001b[0;31mValueError\u001b[0m: invalid literal for int() with base 10: 'assss'"
     ]
    }
   ],
   "source": [
    "def retornar_elemento(x):\n",
    "    dicci = {0:\"Led Zeppelin\", 2:\"Deep Purple\", 3:\"Black Sabbath\"}\n",
    "    try:\n",
    "        return dicci[x]\n",
    "    except NameError:\n",
    "        x = 0\n",
    "\n",
    "print('Este código sirve para mostrar propagación dinámica.')\n",
    "elem = int(input('Ingresá una clave para acceder al diccionario: (999 para finalizar) '))\n",
    "while elem!=999:\n",
    "    try:\n",
    "        print (f\"El valor del elemento: {elem} es {retornar_elemento(elem)}\")\n",
    "    except KeyError:\n",
    "        print ('Ups! Entraste una clave inexistente. Probá de nuevo!')\n",
    "    elem = int(input('Ingresá clave para acceder al diccionario: (999 para finalizar) '))\n"
   ]
  },
  {
   "cell_type": "markdown",
   "id": "sorted-guarantee",
   "metadata": {
    "collapsed": true,
    "slideshow": {
     "slide_type": "fragment"
    }
   },
   "source": [
    "- ¿Qué excepción se produce?¿Dónde se levanta? ¿Cuál es el bloque que termina? \n",
    "- ¿Qué podemos decir sobre la forma de buscar el manejador de la excepción?\n",
    "    - Cuando **no se encuentra** un manejador para la excepción levantada, ¿dónde busca?"
   ]
  },
  {
   "cell_type": "markdown",
   "id": "subsequent-speaking",
   "metadata": {
    "slideshow": {
     "slide_type": "subslide"
    }
   },
   "source": [
    "# ¿Qué sucedió?\n",
    "\n",
    "\n",
    "- La excepción KeyError se levantó dentro de la función **retornar_elemento**.\n",
    "- **Busca estáticamene** si el bloque está encerrado en otro bloque try except.\n",
    "- Al no encontrar un manejador para esa excepción en la función ...\n",
    "- **Busca dinámicamente** a quién llamó a la función. \n",
    "- Si no encuentra un manejador... entonces termina el programa... con error."
   ]
  },
  {
   "cell_type": "markdown",
   "id": "harmful-bread",
   "metadata": {
    "slideshow": {
     "slide_type": "subslide"
    }
   },
   "source": [
    "# ¿Cómo es la forma de **propagación** que utiliza Python?\n",
    "\n",
    "- Primero busca **estáticamente**.\n",
    "- Si no se encuentra, busca **dinámicamente** a quién llamó a la función.\n",
    "- Si no encuentra un manejador... entonces termina el programa ... con error.."
   ]
  },
  {
   "cell_type": "markdown",
   "id": "religious-rehabilitation",
   "metadata": {
    "slideshow": {
     "slide_type": "slide"
    }
   },
   "source": [
    "# Podemos levantar explícitamente excepciones"
   ]
  },
  {
   "cell_type": "code",
   "execution_count": null,
   "id": "established-diversity",
   "metadata": {
    "slideshow": {
     "slide_type": "fragment"
    }
   },
   "outputs": [],
   "source": [
    "dicci = {0:\"Led Zeppelin\", 1:\"Deep Purple\", 4:\"Black Sabbath\"}\n",
    "\n",
    "try:\n",
    "    print ('Entramos al bloque try')\n",
    "    for x in range(1,6):\n",
    "        if x == 2 or x == 3:\n",
    "            raise KeyError\n",
    "        else:\n",
    "            print (dicci[x])\n",
    "    print('Continuamos con el proceso..')\n",
    "except KeyError:\n",
    "    dicci[x] = 'NUEVO'\n",
    "\n",
    "dicci"
   ]
  },
  {
   "cell_type": "markdown",
   "id": "5b76c9fb",
   "metadata": {
    "slideshow": {
     "slide_type": "fragment"
    }
   },
   "source": [
    "¿Por qué no continúa con la iteración e ingresa un elemento con clave 3?"
   ]
  },
  {
   "cell_type": "markdown",
   "id": "meaning-skirt",
   "metadata": {
    "slideshow": {
     "slide_type": "subslide"
    }
   },
   "source": [
    "# También es posible:"
   ]
  },
  {
   "cell_type": "code",
   "execution_count": 15,
   "id": "waiting-change",
   "metadata": {
    "slideshow": {
     "slide_type": "fragment"
    }
   },
   "outputs": [
    {
     "name": "stdout",
     "output_type": "stream",
     "text": [
      "Entramos al bloque try\n",
      "Manejando KeyError\n"
     ]
    }
   ],
   "source": [
    "try:\n",
    "    print ('Entramos al bloque try')\n",
    "    for x in range(1,6):\n",
    "        if x == 2 or x == 3:\n",
    "            raise \n",
    "        else:\n",
    "            print (dicci[x])\n",
    "    print('Continuamos con el proceso..')\n",
    "except KeyError:\n",
    "    print(\"Manejando KeyError\")"
   ]
  },
  {
   "cell_type": "markdown",
   "id": "published-spending",
   "metadata": {
    "slideshow": {
     "slide_type": "fragment"
    }
   },
   "source": [
    "- ¿Qué excepción se levantó?"
   ]
  },
  {
   "cell_type": "markdown",
   "id": "statewide-shelf",
   "metadata": {
    "slideshow": {
     "slide_type": "subslide"
    }
   },
   "source": [
    "- **raise**: vuelve a lanzar la última excepción que estaba activa en el ámbito actual. Si no hay ninguna excepción activa en el alcance actual, se lanza una **RuntimeError** que indica que se trata de un error."
   ]
  },
  {
   "cell_type": "code",
   "execution_count": null,
   "id": "greater-vessel",
   "metadata": {
    "slideshow": {
     "slide_type": "fragment"
    }
   },
   "outputs": [],
   "source": [
    "dicci = {0:\"Led Zeppelin\", 2:\"Deep Purple\", 3:\"Black Sabbath\"}\n",
    "try:\n",
    "    print(\"Ingresamos al bloque try externo...\")\n",
    "    try:\n",
    "        print (\"Entramos al bloque try interno\")\n",
    "        for x in range(1,6):\n",
    "            if x == 2 or x == 3:\n",
    "                raise KeyError\n",
    "            else:\n",
    "                print (dicci[x])\n",
    "        print(\"Continuamos con el proceso..\")\n",
    "    except KeyError:\n",
    "        dicci[x] = 'NUEVO'\n",
    "        raise\n",
    "except KeyError:\n",
    "    print(\"Vuelvo a manejar KeyError...\")\n",
    "except:\n",
    "    print(\"Esto es por cualquier otra...\")\n",
    "dicci"
   ]
  },
  {
   "cell_type": "markdown",
   "id": "heated-neighbor",
   "metadata": {
    "slideshow": {
     "slide_type": "subslide"
    }
   },
   "source": [
    "# Algunas de las excepciones predefinidas (Built-in)\n",
    "\t\n",
    "- **ImportError**: error con importación de módulos.\n",
    "- **ModuleNotFoundError**: error por módulo no encontrado.\n",
    "- **IndexError**: error por índice fuera de rango.\n",
    "- **KeyError**: error por clave inexistente.\n",
    "- **NameError**: error por nombre no encontrado.\n",
    "- **SyntaxError**: error por problemas sintácticos\n",
    "- **ZeroDivisionError**: error por división por cero.\n",
    "- **IOError**: error en entrada salida.\n",
    "\n",
    "\n",
    "[Listado completo](https://docs.python.org/3/library/exceptions.html)"
   ]
  },
  {
   "cell_type": "markdown",
   "id": "spoken-stomach",
   "metadata": {
    "slideshow": {
     "slide_type": "subslide"
    }
   },
   "source": [
    "# ¿Es posible acceder a la información de contexto de la excepción?"
   ]
  },
  {
   "cell_type": "code",
   "execution_count": 17,
   "id": "instrumental-research",
   "metadata": {
    "slideshow": {
     "slide_type": "fragment"
    }
   },
   "outputs": [
    {
     "name": "stdout",
     "output_type": "stream",
     "text": [
      "Entramos al bloque try\n",
      "(<class 'KeyError'>, KeyError(1), <traceback object at 0x7f2a44348880>)\n",
      "1\n"
     ]
    }
   ],
   "source": [
    "dicci = {0:\"Led Zeppelin\", 2:\"Deep Purple\", 3:\"Black Sabbath\"}\n",
    "try:\n",
    "    print ('Entramos al bloque try')\n",
    "    for x in range(1,6):\n",
    "        if x == 2 or x == 3:\n",
    "            raise KeyError \n",
    "        else:\n",
    "            print (dicci[x])\n",
    "    print('Continuamos con el proceso..')\n",
    "except KeyError as exc:\n",
    "    dicci[x] = 'NUEVO'\n",
    "    datos_exc = exc\n",
    "    import sys\n",
    "    print(sys.exc_info())\n",
    "print(datos_exc)"
   ]
  },
  {
   "cell_type": "markdown",
   "id": "coral-springfield",
   "metadata": {
    "slideshow": {
     "slide_type": "fragment"
    }
   },
   "source": [
    "- **sys.exc_info()** "
   ]
  },
  {
   "cell_type": "code",
   "execution_count": null,
   "id": "corresponding-harrison",
   "metadata": {
    "slideshow": {
     "slide_type": "notes"
    }
   },
   "outputs": [],
   "source": [
    "x = 10\n",
    "y = 0\n",
    "try:\n",
    "    z = x/y\n",
    "except ZeroDivisionError as e:\n",
    "    z = e # representation: \"<exceptions.ZeroDivisionError instance at 0x817426c>\"\n",
    "print(z) # output: \"integer division or modulo by zero\""
   ]
  },
  {
   "cell_type": "markdown",
   "id": "headed-transport",
   "metadata": {
    "slideshow": {
     "slide_type": "slide"
    }
   },
   "source": [
    "# En resumen:\n",
    "\n",
    "\n",
    "```python\n",
    "try:\n",
    "    sentencias\n",
    "except excepcion1, excepcion2:\n",
    "    sentencias\n",
    "except excepcion3 as variable:\n",
    "    sentencias\n",
    "except:\n",
    "    sentencias\n",
    "else:\n",
    "    sentencias\n",
    "finally:\n",
    "    sentencias\n",
    "    \n",
    "```\n"
   ]
  },
  {
   "cell_type": "markdown",
   "id": "prescription-simulation",
   "metadata": {
    "slideshow": {
     "slide_type": "slide"
    }
   },
   "source": [
    "# Desafío 2\n",
    "\n",
    "- Dado el dataset con datos de [video juegos](https://www.kaggle.com/tristan581/17k-apple-app-store-strategy-games?select=appstore_games.csv) del Apple store.\n",
    "- Armar un menú con PySimpleGUi que permita:\n",
    "    1. listar los juegos gratuitos disponibles en idioma español. \n",
    "    2. los íconos (OPCIONAL en formato imagen, sino la url) de los 10 juegos con más calificaciones de usuarios (User Rating Count). \n",
    "- Los que deseen, lo pueden subir a GitHub y compartir solución con @clauBanchoff\n",
    "- Incluir manejo de excepciones donde consideren adecuado. \n",
    "\n",
    "- También pueden descargar el archivo en: https://archivos.linti.unlp.edu.ar/index.php/s/D0YR0jqOx1GQtSD"
   ]
  },
  {
   "cell_type": "markdown",
   "id": "lyric-brain",
   "metadata": {
    "slideshow": {
     "slide_type": "subslide"
    }
   },
   "source": [
    "**Ayuda**: para recuperar las imágenes de los íconos podemos usar el **módulo requests**\n",
    "- Se instala con pip: **pip install requests**\n",
    "- [+Info](https://realpython.com/python-requests/)"
   ]
  },
  {
   "cell_type": "code",
   "execution_count": 20,
   "id": "weird-organization",
   "metadata": {
    "slideshow": {
     "slide_type": "fragment"
    }
   },
   "outputs": [],
   "source": [
    "# Ayuda para el punto 2\n",
    "import requests\n",
    "import os\n",
    "\n",
    "juego = \"pepe\"\n",
    "archivo = os.path.join(os.getcwd(), \"archivos\", juego)\n",
    "\n",
    "icon_url = \"https://cf.geekdo-images.com/original/img/lDN358RgcYvQfYYN6Oy2TXpifyM=/0x0/pic2437871.jpg\"\n",
    "icono = requests.get(icon_url)\n"
   ]
  },
  {
   "cell_type": "code",
   "execution_count": 21,
   "id": "a05ce420",
   "metadata": {},
   "outputs": [],
   "source": [
    "with open(f'{archivo}.jpg', 'wb') as f:\n",
    "    f.write(icono.content)"
   ]
  },
  {
   "cell_type": "markdown",
   "id": "cb76b9c3",
   "metadata": {
    "slideshow": {
     "slide_type": "slide"
    }
   },
   "source": [
    "# Hablamos del trabajo integrador"
   ]
  }
 ],
 "metadata": {
  "celltoolbar": "Slideshow",
  "kernelspec": {
   "display_name": "Python 3 (ipykernel)",
   "language": "python",
   "name": "python3"
  },
  "language_info": {
   "codemirror_mode": {
    "name": "ipython",
    "version": 3
   },
   "file_extension": ".py",
   "mimetype": "text/x-python",
   "name": "python",
   "nbconvert_exporter": "python",
   "pygments_lexer": "ipython3",
   "version": "3.10.2"
  }
 },
 "nbformat": 4,
 "nbformat_minor": 5
}
