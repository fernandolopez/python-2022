{
 "cells": [
  {
   "cell_type": "markdown",
   "id": "younger-ready",
   "metadata": {
    "slideshow": {
     "slide_type": "slide"
    }
   },
   "source": [
    "# Seminario de Lenguajes - Python\n",
    "## Cursada 2022\n",
    "### Clase 5: repaso de archivos"
   ]
  },
  {
   "cell_type": "markdown",
   "id": "962aaf4c",
   "metadata": {
    "slideshow": {
     "slide_type": "slide"
    }
   },
   "source": [
    "# Repasamos archivos\n",
    "\n"
   ]
  },
  {
   "cell_type": "code",
   "execution_count": null,
   "id": "4a97fddf",
   "metadata": {
    "slideshow": {
     "slide_type": "subslide"
    }
   },
   "outputs": [],
   "source": [
    "archivo = open('datos.txt', 'x')"
   ]
  },
  {
   "cell_type": "markdown",
   "id": "ca4088d4",
   "metadata": {
    "slideshow": {
     "slide_type": "fragment"
    }
   },
   "source": [
    "- ¿Cómo se abre el archivo? ¿Existen otras formas? ¿Posibles errores?"
   ]
  },
  {
   "cell_type": "markdown",
   "id": "82c7d0f7",
   "metadata": {
    "slideshow": {
     "slide_type": "subslide"
    }
   },
   "source": [
    "## JSON\n",
    "\n",
    "- ¿En qué situaciones es útil?"
   ]
  },
  {
   "cell_type": "code",
   "execution_count": null,
   "id": "0e6c3fda",
   "metadata": {
    "slideshow": {
     "slide_type": "fragment"
    }
   },
   "outputs": [],
   "source": [
    "import json"
   ]
  },
  {
   "cell_type": "code",
   "execution_count": null,
   "id": "07c60cd8",
   "metadata": {
    "slideshow": {
     "slide_type": "fragment"
    }
   },
   "outputs": [],
   "source": [
    "archivo = open(\"bandas.txt\", \"w\")\n",
    "datos = [\n",
    "    {\"nombre\": \"William Campbell\", \"ciudad\": \"La Plata\", \"ref\": \"www.instagram.com/williamcampbellok\"},\n",
    "    {\"nombre\": \"Buendia\", \"ciudad\": \"La Plata\", \"ref\":\"https://buendia.bandcamp.com/\"},\n",
    "    {\"nombre\": \"Lúmine\", \"ciudad\": \"La Plata\", \"ref\": \"https://www.instagram.com/luminelp/\"}]\n",
    "json.dump(datos, archivo)\n",
    "archivo.close()"
   ]
  },
  {
   "cell_type": "markdown",
   "id": "dc0a67ab",
   "metadata": {
    "slideshow": {
     "slide_type": "fragment"
    }
   },
   "source": [
    "- ¿Qué tipo de datos contiene el archivo?"
   ]
  },
  {
   "cell_type": "code",
   "execution_count": null,
   "id": "233a2299",
   "metadata": {
    "slideshow": {
     "slide_type": "subslide"
    }
   },
   "outputs": [],
   "source": [
    "archivo = open(\"bandas.txt\", \"r\")\n",
    "datos = json.load(archivo)\n",
    "\n",
    "datos_a_mostrar = json.dumps(datos)\n",
    "print(datos_a_mostrar)\n",
    "archivo.close()\n",
    "datos_a_mostrar"
   ]
  },
  {
   "cell_type": "markdown",
   "id": "24f8355f",
   "metadata": {
    "slideshow": {
     "slide_type": "fragment"
    }
   },
   "source": [
    "- ¿Qué tipo de datos retorna la función **load**?"
   ]
  },
  {
   "cell_type": "markdown",
   "id": "52a49eb8",
   "metadata": {
    "slideshow": {
     "slide_type": "subslide"
    }
   },
   "source": [
    "## CSV\n",
    "- ¿En qué situaciones es útil?"
   ]
  },
  {
   "cell_type": "code",
   "execution_count": null,
   "id": "0c37e42b",
   "metadata": {
    "slideshow": {
     "slide_type": "fragment"
    }
   },
   "outputs": [],
   "source": [
    "import csv"
   ]
  },
  {
   "cell_type": "code",
   "execution_count": null,
   "id": "55d0872a",
   "metadata": {
    "slideshow": {
     "slide_type": "fragment"
    }
   },
   "outputs": [],
   "source": [
    "archivo = open(\"bandas.txt\")\n",
    "archivo_csv = open(\"bandas.csv\", \"w\")\n",
    "\n",
    "bandas = json.load(archivo)\n",
    "\n",
    "writer = csv.writer(archivo_csv)\n",
    "writer.writerow([\"Nombre\", \"Ciudad de procedencia\", \"Refencias\"])\n",
    "for banda in bandas:\n",
    "    writer.writerow([banda[\"nombre\"], banda[\"ciudad\"], banda[\"ref\"]])\n",
    "\n",
    "archivo.close()\n",
    "archivo_csv.close()\n",
    "#type(writer)"
   ]
  },
  {
   "cell_type": "markdown",
   "id": "707364c4",
   "metadata": {
    "slideshow": {
     "slide_type": "fragment"
    }
   },
   "source": [
    "- ¿Qué hace el código? \n",
    "- ¿Qué tipo de datos contiene el archivo generado?"
   ]
  },
  {
   "cell_type": "markdown",
   "id": "a2fa1f28",
   "metadata": {
    "slideshow": {
     "slide_type": "subslide"
    }
   },
   "source": [
    "# El desafío 1 de la clase pasada:"
   ]
  },
  {
   "cell_type": "code",
   "execution_count": null,
   "id": "255a46be",
   "metadata": {
    "slideshow": {
     "slide_type": "fragment"
    }
   },
   "outputs": [],
   "source": [
    "ruta_archivos = \"archivos\""
   ]
  },
  {
   "cell_type": "code",
   "execution_count": null,
   "id": "bf4f7efc",
   "metadata": {
    "slideshow": {
     "slide_type": "fragment"
    }
   },
   "outputs": [],
   "source": [
    "import os\n",
    "os.getcwd()"
   ]
  },
  {
   "cell_type": "code",
   "execution_count": null,
   "id": "10058cb8",
   "metadata": {
    "slideshow": {
     "slide_type": "fragment"
    }
   },
   "outputs": [],
   "source": [
    "ruta_completa = os.path.join(os.getcwd(), ruta_archivos)\n",
    "\n",
    "archivo_netflix = os.path.join(ruta_completa, \"netflix_titles.csv\")\n",
    "titulos_2021 = os.path.join(ruta_completa, \"titulos2021.csv\")"
   ]
  },
  {
   "cell_type": "markdown",
   "id": "0afb9abb",
   "metadata": {
    "slideshow": {
     "slide_type": "fragment"
    }
   },
   "source": [
    "- ¿Dónde están los archivos?"
   ]
  },
  {
   "cell_type": "markdown",
   "id": "ff5f22f3",
   "metadata": {
    "slideshow": {
     "slide_type": "subslide"
    }
   },
   "source": [
    "# Observemos este código:"
   ]
  },
  {
   "cell_type": "code",
   "execution_count": null,
   "id": "278445b5",
   "metadata": {
    "slideshow": {
     "slide_type": "fragment"
    }
   },
   "outputs": [],
   "source": [
    "# Abro el dataset\n",
    "with open(archivo_netflix, encoding='utf-8') as data_set:\n",
    "    reader = csv.reader(data_set, delimiter=',')\n",
    "    # Creo el archivo .csv de salida\n",
    "    with open(titulos_2021, 'w', encoding='utf-8') as salida:\n",
    "        writer = csv.writer(salida)\n",
    "\n",
    "        # Agrego el encabezado\n",
    "        writer.writerow(reader.__next__())\n",
    "\n",
    "        # Escribo sólo los titulos estrenados en 2021\n",
    "        writer.writerows(filter(lambda titulo: titulo[7] == '2021', reader))"
   ]
  },
  {
   "cell_type": "markdown",
   "id": "c93acec9",
   "metadata": {
    "slideshow": {
     "slide_type": "fragment"
    }
   },
   "source": [
    "- ¿with?\n",
    "- ¿close?"
   ]
  },
  {
   "cell_type": "markdown",
   "id": "82397ac7",
   "metadata": {
    "slideshow": {
     "slide_type": "fragment"
    }
   },
   "source": [
    "### La instrucción with automáticamente se encarga de cerrar el archivo una vez que sale del bloque with, incluso en casos de error."
   ]
  },
  {
   "cell_type": "markdown",
   "id": "9c83c227",
   "metadata": {
    "slideshow": {
     "slide_type": "subslide"
    }
   },
   "source": [
    "# El desafío 2 de la clase pasada:"
   ]
  },
  {
   "cell_type": "code",
   "execution_count": null,
   "id": "88a7a2d9",
   "metadata": {
    "slideshow": {
     "slide_type": "fragment"
    }
   },
   "outputs": [],
   "source": [
    "from collections import Counter\n",
    "\n",
    "archivo = open(titulos_2021, 'r', encoding='utf-8')\n",
    "csv_reader = csv.reader(archivo, delimiter=',')\n",
    "paises = {}\n",
    "next(csv_reader)\n",
    "\n",
    "for i in csv_reader:\n",
    "    if i[5] in paises.keys():\n",
    "        paises[i[5]] += 1\n",
    "    else:\n",
    "        paises[i[5]] = 1\n",
    "top_5 = Counter(paises).most_common(5)\n",
    "print('Los 5 paises con más titulos: ')\n",
    "print(dict(top_5))\n",
    "\n",
    "archivo.close()"
   ]
  },
  {
   "cell_type": "markdown",
   "id": "0826f28c",
   "metadata": {
    "slideshow": {
     "slide_type": "fragment"
    }
   },
   "source": [
    "-¿collections?"
   ]
  },
  {
   "cell_type": "markdown",
   "id": "5b6e3e10",
   "metadata": {
    "slideshow": {
     "slide_type": "subslide"
    }
   },
   "source": [
    "## Otra forma: "
   ]
  },
  {
   "cell_type": "code",
   "execution_count": null,
   "id": "e356f343",
   "metadata": {
    "slideshow": {
     "slide_type": "fragment"
    }
   },
   "outputs": [],
   "source": [
    "archivo = open(titulos_2021, 'r', encoding='utf-8')\n",
    "csv_reader = csv.reader(archivo, delimiter=',')\n",
    "\n",
    "paises = map(lambda fila: fila[5], csv_reader )\n",
    "\n",
    "top_5 = Counter(paises).most_common(5)\n",
    "print(f'Los 5 paises con más titulos: \\n {dict(top_5)}')\n"
   ]
  },
  {
   "cell_type": "markdown",
   "id": "b520002d",
   "metadata": {
    "slideshow": {
     "slide_type": "slide"
    }
   },
   "source": [
    "# La actividad por Python plus...."
   ]
  },
  {
   "cell_type": "markdown",
   "id": "3d04d845",
   "metadata": {
    "slideshow": {
     "slide_type": "fragment"
    }
   },
   "source": [
    "Veamos el [enunciado](https://docs.google.com/document/d/14VHQ-m8-uai3jFnRnGR3FvWRekh7Dxqx12GpnEGPF80/edit?usp=sharing)\n",
    "\n",
    "FECHA PROPUESTA:\n",
    "- Parte I:  lunes 18 de abril - 19 a 20 hs.\n",
    "- Parte II: lunes 25 de abril - 19 a 20 hs."
   ]
  },
  {
   "cell_type": "markdown",
   "id": "ca2841d5",
   "metadata": {
    "slideshow": {
     "slide_type": "slide"
    }
   },
   "source": [
    "#  Seguimos la próxima ..."
   ]
  }
 ],
 "metadata": {
  "celltoolbar": "Slideshow",
  "kernelspec": {
   "display_name": "Python 3 (ipykernel)",
   "language": "python",
   "name": "python3"
  },
  "language_info": {
   "codemirror_mode": {
    "name": "ipython",
    "version": 3
   },
   "file_extension": ".py",
   "mimetype": "text/x-python",
   "name": "python",
   "nbconvert_exporter": "python",
   "pygments_lexer": "ipython3",
   "version": "3.10.2"
  }
 },
 "nbformat": 4,
 "nbformat_minor": 5
}
